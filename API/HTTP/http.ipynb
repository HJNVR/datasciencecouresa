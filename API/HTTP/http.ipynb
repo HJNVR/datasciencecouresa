{
 "cells": [
  {
   "cell_type": "code",
   "execution_count": 3,
   "metadata": {},
   "outputs": [],
   "source": [
    "import requests\n",
    "url='https://www.ibm.com/'\n",
    "r = requests.get(url)"
   ]
  },
  {
   "cell_type": "code",
   "execution_count": 4,
   "metadata": {},
   "outputs": [
    {
     "data": {
      "text/plain": [
       "200"
      ]
     },
     "execution_count": 4,
     "metadata": {},
     "output_type": "execute_result"
    }
   ],
   "source": [
    "r.status_code"
   ]
  },
  {
   "cell_type": "code",
   "execution_count": 12,
   "metadata": {},
   "outputs": [
    {
     "data": {
      "text/plain": [
       "{'User-Agent': 'python-requests/2.22.0', 'Accept-Encoding': 'gzip, deflate', 'Accept': '*/*', 'Connection': 'keep-alive', 'Cookie': '_abck=BA274BF01FF630F6CF8FB920BF1294AE~-1~YAAQnMR7aMYj+Rt4AQAATNZ3MgUNl2d+y9eF2/D5KOyJRx0aGj1opCJMXYhO9bGZvlTJ8C/lT9bfDwucrqOO8Pk/sgnwLHJ+8Hac7zNgIEm2lhRrzRIGJYv6lxrx2Isj/dqvc+qhTHKJpCkUhVGwQcYH3HMNdg2l7OeFOivR0hp/TwghHQRJTdAv9rSTvpS4GXd00G4p2tVPX7ADUt+WcG3ik44J+FBtxn9Kn/z9ohcC1lc2TRQu8l7TpydbWUlSFZW6j+wVfA3dRvozHQIL8VSEhpwwJ43YSSesLDPK7gEK2zRZB0heptXwwxz6oLHG+8bPuZ0wHFigDGIXNHUlCpaq7+nS40gFwtju/LJ3+uwei6nYMDw=~-1~-1~-1; bm_sz=A2889ACDF7F8B275F1BB871B7B3212BC~YAAQnMR7aMUj+Rt4AQAATNZ3MgsERkRUyEJVhpI55HRGeN5QV0oyYS9lqW34K4eFEyTGJLcHF75KLtN1RVG2KNCtVeHDQchLz0XAUcRybmmBuhBMXEMZnsjge9YquT8mqpi0yio26pozvJnczG94+Usdz0qR5sM/RjRPojvpS5XZfNjG7qXh0hwiEXA6'}"
      ]
     },
     "execution_count": 12,
     "metadata": {},
     "output_type": "execute_result"
    }
   ],
   "source": [
    "r.request.headers # headers"
   ]
  },
  {
   "cell_type": "code",
   "execution_count": 13,
   "metadata": {},
   "outputs": [],
   "source": [
    "r.request.body # body , here is None"
   ]
  },
  {
   "cell_type": "code",
   "execution_count": 14,
   "metadata": {},
   "outputs": [
    {
     "data": {
      "text/plain": [
       "{'Server': 'Apache', 'x-drupal-dynamic-cache': 'UNCACHEABLE', 'Link': '<https://www.ibm.com/ca-en>; rel=\"canonical\", <https://www.ibm.com/ca-en>; rel=\"revision\", <https://www.ibm.com/ca-en>; rel=\"revision\", <//1.cms.s81c.com>; rel=preconnect; crossorigin, <//1.cms.s81c.com>; rel=dns-prefetch', 'x-ua-compatible': 'IE=edge', 'Content-Language': 'en-ca', 'x-generator': 'Drupal 8 (https://www.drupal.org)', 'x-dns-prefetch-control': 'on', 'x-drupal-cache': 'MISS', 'Last-Modified': 'Sun, 14 Mar 2021 02:41:37 GMT', 'ETag': '\"1615689697\"', 'Content-Type': 'text/html; charset=UTF-8', 'x-acquia-host': 'www.ibm.com', 'x-acquia-path': '/ca-en', 'x-acquia-site': '', 'x-acquia-purge-tags': '', 'x-varnish': '13422291 18691762', 'x-cache-hits': '4', 'x-age': '18190', 'Accept-Ranges': 'bytes', 'Content-Encoding': 'gzip', 'Cache-Control': 'public, max-age=300', 'Expires': 'Sun, 14 Mar 2021 20:45:18 GMT', 'X-Akamai-Transformed': '9 11190 0 pmb=mTOE,1', 'Date': 'Sun, 14 Mar 2021 20:40:18 GMT', 'Content-Length': '11301', 'Connection': 'keep-alive', 'Vary': 'Accept-Encoding', 'x-content-type-options': 'nosniff', 'X-XSS-Protection': '1; mode=block', 'Content-Security-Policy': 'upgrade-insecure-requests', 'Strict-Transport-Security': 'max-age=31536000', 'x-ibm-trace': 'www-dipatcher: dynamic rule'}"
      ]
     },
     "execution_count": 14,
     "metadata": {},
     "output_type": "execute_result"
    }
   ],
   "source": [
    "header=r.headers\n",
    "header"
   ]
  },
  {
   "cell_type": "code",
   "execution_count": 15,
   "metadata": {},
   "outputs": [
    {
     "data": {
      "text/plain": [
       "'Sun, 14 Mar 2021 20:40:18 GMT'"
      ]
     },
     "execution_count": 15,
     "metadata": {},
     "output_type": "execute_result"
    }
   ],
   "source": [
    "header['date']"
   ]
  },
  {
   "cell_type": "code",
   "execution_count": 16,
   "metadata": {},
   "outputs": [
    {
     "data": {
      "text/plain": [
       "'text/html; charset=UTF-8'"
      ]
     },
     "execution_count": 16,
     "metadata": {},
     "output_type": "execute_result"
    }
   ],
   "source": [
    "header['Content-Type']"
   ]
  },
  {
   "cell_type": "code",
   "execution_count": 17,
   "metadata": {},
   "outputs": [
    {
     "data": {
      "text/plain": [
       "'UTF-8'"
      ]
     },
     "execution_count": 17,
     "metadata": {},
     "output_type": "execute_result"
    }
   ],
   "source": [
    "r.encoding"
   ]
  },
  {
   "cell_type": "code",
   "execution_count": 18,
   "metadata": {
    "scrolled": true
   },
   "outputs": [
    {
     "data": {
      "text/plain": [
       "'<!DOCTYPE html>\\n<html lang=\"en-ca\" dir=\"ltr\">\\n  <head>\\n    <meta charset=\"utf-8\" />\\n<script>digitalD'"
      ]
     },
     "execution_count": 18,
     "metadata": {},
     "output_type": "execute_result"
    }
   ],
   "source": [
    "r.text[0:100]"
   ]
  },
  {
   "cell_type": "markdown",
   "metadata": {},
   "source": [
    "# 1. Use \"Get\" to change url parameters"
   ]
  },
  {
   "cell_type": "code",
   "execution_count": 21,
   "metadata": {},
   "outputs": [],
   "source": [
    "##  change url parameters \n",
    "url_get = 'http://httpbin.org/get'\n",
    "payload={\"name\":\"Jpseph\",\"ID\":\"123\"}\n",
    "r = requests.get(url_get, params=payload)"
   ]
  },
  {
   "cell_type": "code",
   "execution_count": 22,
   "metadata": {},
   "outputs": [
    {
     "data": {
      "text/plain": [
       "'http://httpbin.org/get?name=Jpseph&ID=123'"
      ]
     },
     "execution_count": 22,
     "metadata": {},
     "output_type": "execute_result"
    }
   ],
   "source": [
    "r.url"
   ]
  },
  {
   "cell_type": "code",
   "execution_count": 23,
   "metadata": {},
   "outputs": [],
   "source": [
    "r.request.body"
   ]
  },
  {
   "cell_type": "code",
   "execution_count": 24,
   "metadata": {},
   "outputs": [
    {
     "data": {
      "text/plain": [
       "'{\\n  \"args\": {\\n    \"ID\": \"123\", \\n    \"name\": \"Jpseph\"\\n  }, \\n  \"headers\": {\\n    \"Accept\": \"*/*\", \\n    \"Accept-Encoding\": \"gzip, deflate\", \\n    \"Host\": \"httpbin.org\", \\n    \"User-Agent\": \"python-requests/2.22.0\", \\n    \"X-Amzn-Trace-Id\": \"Root=1-604e7681-4b69d728747dd61a6cd54000\"\\n  }, \\n  \"origin\": \"99.245.67.178\", \\n  \"url\": \"http://httpbin.org/get?name=Jpseph&ID=123\"\\n}\\n'"
      ]
     },
     "execution_count": 24,
     "metadata": {},
     "output_type": "execute_result"
    }
   ],
   "source": [
    "r.text"
   ]
  },
  {
   "cell_type": "code",
   "execution_count": 25,
   "metadata": {},
   "outputs": [
    {
     "data": {
      "text/plain": [
       "'application/json'"
      ]
     },
     "execution_count": 25,
     "metadata": {},
     "output_type": "execute_result"
    }
   ],
   "source": [
    "r.headers['Content-Type']"
   ]
  },
  {
   "cell_type": "code",
   "execution_count": 26,
   "metadata": {},
   "outputs": [
    {
     "data": {
      "text/plain": [
       "{'args': {'ID': '123', 'name': 'Jpseph'},\n",
       " 'headers': {'Accept': '*/*',\n",
       "  'Accept-Encoding': 'gzip, deflate',\n",
       "  'Host': 'httpbin.org',\n",
       "  'User-Agent': 'python-requests/2.22.0',\n",
       "  'X-Amzn-Trace-Id': 'Root=1-604e7681-4b69d728747dd61a6cd54000'},\n",
       " 'origin': '99.245.67.178',\n",
       " 'url': 'http://httpbin.org/get?name=Jpseph&ID=123'}"
      ]
     },
     "execution_count": 26,
     "metadata": {},
     "output_type": "execute_result"
    }
   ],
   "source": [
    "r.json()"
   ]
  },
  {
   "cell_type": "code",
   "execution_count": 27,
   "metadata": {},
   "outputs": [
    {
     "data": {
      "text/plain": [
       "{'ID': '123', 'name': 'Jpseph'}"
      ]
     },
     "execution_count": 27,
     "metadata": {},
     "output_type": "execute_result"
    }
   ],
   "source": [
    "r.json()['args']"
   ]
  },
  {
   "cell_type": "markdown",
   "metadata": {},
   "source": [
    "# 2.Use \"POST\" to change url parameters"
   ]
  },
  {
   "cell_type": "code",
   "execution_count": 30,
   "metadata": {},
   "outputs": [],
   "source": [
    "url_post = \"http://httpbin.org/post\"\n",
    "payload = {\"name\":\"Joseph\", \"ID\":\"123\"}\n",
    "r_post=requests.post(url_post, data=payload)"
   ]
  },
  {
   "cell_type": "code",
   "execution_count": 32,
   "metadata": {},
   "outputs": [
    {
     "data": {
      "text/plain": [
       "'http://httpbin.org/post'"
      ]
     },
     "execution_count": 32,
     "metadata": {},
     "output_type": "execute_result"
    }
   ],
   "source": [
    "r_post.url "
   ]
  },
  {
   "cell_type": "markdown",
   "metadata": {},
   "source": [
    "#Get vs Post\n",
    "#We found that url of \"POST\" doe snot contain user id and data"
   ]
  },
  {
   "cell_type": "markdown",
   "metadata": {},
   "source": [
    "# 3. Webscraping"
   ]
  },
  {
   "cell_type": "code",
   "execution_count": 2,
   "metadata": {},
   "outputs": [],
   "source": [
    "import requests\n",
    "from bs4 import BeautifulSoup"
   ]
  },
  {
   "cell_type": "code",
   "execution_count": 3,
   "metadata": {},
   "outputs": [
    {
     "name": "stdout",
     "output_type": "stream",
     "text": [
      "Skip to content\n",
      "#start-of-content\n",
      "\n",
      "\n",
      "https://github.com/\n",
      "\n",
      "                Sign up\n",
      "              \n",
      "/join?ref_cta=Sign+up&ref_loc=header+logged+out&ref_page=%2F%3Cuser-name%3E&source=header\n",
      "\n",
      "                Sign up\n",
      "              \n",
      "/join_next?ref_cta=Sign+up&ref_loc=header+logged+out&ref_page=%2F%3Cuser-name%3E&source=header\n",
      "Features \n",
      "/features\n",
      "Mobile \n",
      "/mobile\n",
      "Actions \n",
      "/features/actions\n",
      "Codespaces \n",
      "/features/codespaces\n",
      "Packages \n",
      "/features/packages\n",
      "Security \n",
      "/features/security\n",
      "Code review \n",
      "/features/code-review/\n",
      "Project management \n",
      "/features/project-management/\n",
      "Integrations \n",
      "/features/integrations\n",
      "GitHub Sponsors \n",
      "/sponsors\n",
      "Customer stories\n",
      "/customer-stories\n",
      "Team\n",
      "/team\n",
      "Enterprise\n",
      "/enterprise\n",
      "Explore GitHub \n",
      "/explore\n",
      "Topics \n",
      "/topics\n",
      "Collections \n",
      "/collections\n",
      "Trending \n",
      "/trending\n",
      "Learning Lab \n",
      "https://lab.github.com/\n",
      "Open source guides \n",
      "https://opensource.guide\n",
      "The ReadME Project \n",
      "https://github.com/readme\n",
      "Events \n",
      "https://github.com/events\n",
      "Community forum \n",
      "https://github.community\n",
      "GitHub Education \n",
      "https://education.github.com\n",
      "GitHub Stars program \n",
      "https://stars.github.com\n",
      "Marketplace\n",
      "/marketplace\n",
      "Plans \n",
      "/pricing\n",
      "Compare plans \n",
      "/pricing#feature-comparison\n",
      "Contact Sales \n",
      "https://enterprise.github.com/contact\n",
      "Nonprofit \n",
      "/nonprofit\n",
      "Education \n",
      "https://education.github.com\n",
      "\n",
      "\n",
      "\n",
      "\n",
      "\n",
      "\n",
      "\n",
      "\n",
      "\n",
      "\n",
      "\n",
      "\n",
      "\n",
      "          Sign in\n",
      "        \n",
      "/login?return_to=%2FHJNVR\n",
      "\n",
      "              Sign up\n",
      "            \n",
      "/join?ref_cta=Sign+up&ref_loc=header+logged+out&ref_page=%2F%3Cuser-name%3E&source=header\n",
      "\n",
      "              Sign up\n",
      "            \n",
      "/join_next?ref_cta=Sign+up&ref_loc=header+logged+out&ref_page=%2F%3Cuser-name%3E&source=header\n",
      "Follow\n",
      "/login?return_to=%2FHJNVR\n",
      "\n",
      "\n",
      "/HJNVR\n",
      "\n",
      "\n",
      "/HJNVR?tab=repositories\n",
      "\n",
      "\n",
      "/HJNVR?tab=projects\n",
      "\n",
      "\n",
      "/HJNVR?tab=packages\n",
      "Follow\n",
      "/login?return_to=%2FHJNVR\n",
      "<img alt=\"Avatar\" class=\"avatar avatar-user width-full border color-bg-primary\" height=\"260\" src=\"https://avatars.githubusercontent.com/u/34841349?s=460&amp;u=40701538a585b1a42d9ab5326757b7e400413626&amp;v=4\" style=\"height:auto;\" width=\"260\"/>\n",
      "https://avatars.githubusercontent.com/u/34841349?s=400&u=40701538a585b1a42d9ab5326757b7e400413626&v=4\n",
      "Follow\n",
      "/login?return_to=%2FHJNVR\n",
      "blocking users\n",
      "https://docs.github.com/en/articles/blocking-a-user-from-your-personal-account\n",
      "reporting abuse\n",
      "https://docs.github.com/en/articles/reporting-abuse-or-spam\n",
      "Report abuse\n",
      "/contact/report-abuse?report=HJNVR+%28user%29\n",
      "\n",
      "\n",
      "/HJNVR?tab=followers\n",
      "\n",
      "\n",
      "/HJNVR?tab=following\n",
      "\n",
      "\n",
      "/HJNVR?tab=stars\n",
      "\n",
      "\n",
      "/HJNVR\n",
      "\n",
      "\n",
      "/HJNVR?tab=repositories\n",
      "\n",
      "\n",
      "/HJNVR?tab=projects\n",
      "\n",
      "\n",
      "/HJNVR?tab=packages\n",
      "\n",
      "\n",
      "/HJNVR/WebDriverAgent\n",
      "facebookarchive/WebDriverAgent\n",
      "/facebookarchive/WebDriverAgent\n",
      "\n",
      "\n",
      "/HJNVR/game\n",
      "\n",
      "\n",
      "/HJNVR/Git2GitHub\n",
      "\n",
      "\n",
      "/HJNVR/bootstrap\n",
      "twbs/bootstrap\n",
      "/twbs/bootstrap\n",
      "\n",
      "\n",
      "/HJNVR/gitignore\n",
      "github/gitignore\n",
      "/github/gitignore\n",
      "\n",
      "\n",
      "/HJNVR/UTM_CSC209\n",
      "\n",
      "              Learn how we count contributions\n",
      "https://docs.github.com/articles/why-are-my-contributions-not-showing-up-on-my-profile\n",
      "2021\n",
      "/HJNVR?tab=overview&from=2021-03-01&to=2021-03-15\n",
      "2020\n",
      "/HJNVR?tab=overview&from=2020-12-01&to=2020-12-31\n",
      "2019\n",
      "/HJNVR?tab=overview&from=2019-12-01&to=2019-12-31\n",
      "2018\n",
      "/HJNVR?tab=overview&from=2018-12-01&to=2018-12-31\n",
      "2017\n",
      "/HJNVR?tab=overview&from=2017-12-01&to=2017-12-31\n",
      "HJNVR/SAS-Learning-Notes\n",
      "/HJNVR/SAS-Learning-Notes\n",
      "\n",
      "        8 commits\n",
      "\n",
      "/HJNVR/SAS-Learning-Notes/commits?author=HJNVR&since=2021-01-01&until=2021-02-01\n",
      "HJNVR/SAS-Learning-Notes\n",
      "/HJNVR/SAS-Learning-Notes\n",
      "GitHub profile guide\n",
      "https://docs.github.com/categories/setting-up-and-managing-your-github-profile\n",
      "Terms\n",
      "https://github.com/site/terms\n",
      "Privacy\n",
      "https://github.com/site/privacy\n",
      "Security\n",
      "https://github.com/security\n",
      "Status\n",
      "https://www.githubstatus.com/\n",
      "Docs\n",
      "https://docs.github.com\n",
      "\n",
      "\n",
      "https://github.com\n",
      "Contact GitHub\n",
      "https://support.github.com\n",
      "Pricing\n",
      "https://github.com/pricing\n",
      "API\n",
      "https://docs.github.com\n",
      "Training\n",
      "https://services.github.com\n",
      "Blog\n",
      "https://github.blog\n",
      "About\n",
      "https://github.com/about\n",
      "Reload\n",
      "\n",
      "Reload\n",
      "\n"
     ]
    }
   ],
   "source": [
    "page = requests.get(\"https://github.com/HJNVR\").text\n",
    "\n",
    "# Creates a BeautifulSoup object\n",
    "soup = BeautifulSoup(page, \"html.parser\")\n",
    "\n",
    "#Pulls all instances of <a> tag\n",
    "items_tag_a = soup.find_all('a')\n",
    "\n",
    "# clears data of all tags\n",
    "for item in items_tag_a:\n",
    "    names = item.contents[0]\n",
    "    fulllink = item.get('href')\n",
    "    print(names)\n",
    "    print(fulllink)"
   ]
  },
  {
   "cell_type": "code",
   "execution_count": 6,
   "metadata": {},
   "outputs": [
    {
     "data": {
      "text/plain": [
       "[<a class=\"px-2 py-4 color-bg-info-inverse color-text-white show-on-focus js-skip-to-content\" href=\"#start-of-content\">Skip to content</a>,\n",
       " <a aria-label=\"Homepage\" class=\"mr-4\" data-ga-click=\"(Logged out) Header, go to homepage, icon:logo-wordmark\" href=\"https://github.com/\">\n",
       " <svg aria-hidden=\"true\" class=\"octicon octicon-mark-github color-text-white\" height=\"32\" version=\"1.1\" viewbox=\"0 0 16 16\" width=\"32\"><path d=\"M8 0C3.58 0 0 3.58 0 8c0 3.54 2.29 6.53 5.47 7.59.4.07.55-.17.55-.38 0-.19-.01-.82-.01-1.49-2.01.37-2.53-.49-2.69-.94-.09-.23-.48-.94-.82-1.13-.28-.15-.68-.52-.01-.53.63-.01 1.08.58 1.23.82.72 1.21 1.87.87 2.33.66.07-.52.28-.87.51-1.07-1.78-.2-3.64-.89-3.64-3.95 0-.87.31-1.59.82-2.15-.08-.2-.36-1.02.08-2.12 0 0 .67-.21 2.2.82.64-.18 1.32-.27 2-.27.68 0 1.36.09 2 .27 1.53-1.04 2.2-.82 2.2-.82.44 1.1.16 1.92.08 2.12.51.56.82 1.27.82 2.15 0 3.07-1.87 3.75-3.65 3.95.29.25.54.73.54 1.48 0 1.07-.01 1.93-.01 2.2 0 .21.15.46.55.38A8.013 8.013 0 0016 8c0-4.42-3.58-8-8-8z\" fill-rule=\"evenodd\"></path></svg>\n",
       " </a>,\n",
       " <a class=\"d-inline-block d-lg-none f5 color-text-white no-underline border color-border-tertiary rounded-2 px-2 py-1 mr-3 mr-sm-5 js-signup-redesign-control js-signup-redesign-target\" data-hydro-click='{\"event_type\":\"authentication.click\",\"payload\":{\"location_in_page\":\"site header\",\"repository_id\":null,\"auth_type\":\"SIGN_UP\",\"originating_url\":\"https://github.com/HJNVR\",\"user_id\":null}}' data-hydro-click-hmac=\"cc975c52df07fe6834fd618d5d8c7f2a7f59b3ad01446005a34ab654aabd3345\" href=\"/join?ref_cta=Sign+up&amp;ref_loc=header+logged+out&amp;ref_page=%2F%3Cuser-name%3E&amp;source=header\">\n",
       "                 Sign up\n",
       "               </a>,\n",
       " <a class=\"d-inline-block d-lg-none f5 color-text-white no-underline border color-border-tertiary rounded-2 px-2 py-1 mr-3 mr-sm-5 js-signup-redesign-variation js-signup-redesign-target\" data-hydro-click='{\"event_type\":\"authentication.click\",\"payload\":{\"location_in_page\":\"site header\",\"repository_id\":null,\"auth_type\":\"SIGN_UP\",\"originating_url\":\"https://github.com/HJNVR\",\"user_id\":null}}' data-hydro-click-hmac=\"cc975c52df07fe6834fd618d5d8c7f2a7f59b3ad01446005a34ab654aabd3345\" hidden=\"\" href=\"/join_next?ref_cta=Sign+up&amp;ref_loc=header+logged+out&amp;ref_page=%2F%3Cuser-name%3E&amp;source=header\">\n",
       "                 Sign up\n",
       "               </a>,\n",
       " <a class=\"py-2 lh-condensed-ultra d-block Link--primary no-underline h5 Bump-link--hover\" data-ga-click=\"(Logged out) Header, go to Features\" href=\"/features\">Features <span class=\"Bump-link-symbol float-right text-normal color-text-tertiary pr-3\">→</span></a>,\n",
       " <a class=\"py-2 lh-condensed-ultra d-block Link--secondary no-underline f5 Bump-link--hover\" href=\"/mobile\">Mobile <span class=\"Bump-link-symbol float-right text-normal color-text-tertiary pr-3\">→</span></a>,\n",
       " <a class=\"py-2 lh-condensed-ultra d-block Link--secondary no-underline f5 Bump-link--hover\" href=\"/features/actions\">Actions <span class=\"Bump-link-symbol float-right text-normal color-text-tertiary pr-3\">→</span></a>,\n",
       " <a class=\"py-2 lh-condensed-ultra d-block Link--secondary no-underline f5 Bump-link--hover\" href=\"/features/codespaces\">Codespaces <span class=\"Bump-link-symbol float-right text-normal color-text-tertiary pr-3\">→</span></a>,\n",
       " <a class=\"py-2 lh-condensed-ultra d-block Link--secondary no-underline f5 Bump-link--hover\" href=\"/features/packages\">Packages <span class=\"Bump-link-symbol float-right text-normal color-text-tertiary pr-3\">→</span></a>,\n",
       " <a class=\"py-2 lh-condensed-ultra d-block Link--secondary no-underline f5 Bump-link--hover\" href=\"/features/security\">Security <span class=\"Bump-link-symbol float-right text-normal color-text-tertiary pr-3\">→</span></a>,\n",
       " <a class=\"py-2 lh-condensed-ultra d-block Link--secondary no-underline f5 Bump-link--hover\" href=\"/features/code-review/\">Code review <span class=\"Bump-link-symbol float-right text-normal color-text-tertiary pr-3\">→</span></a>,\n",
       " <a class=\"py-2 lh-condensed-ultra d-block Link--secondary no-underline f5 Bump-link--hover\" href=\"/features/project-management/\">Project management <span class=\"Bump-link-symbol float-right text-normal color-text-tertiary pr-3\">→</span></a>,\n",
       " <a class=\"py-2 lh-condensed-ultra d-block Link--secondary no-underline f5 Bump-link--hover\" href=\"/features/integrations\">Integrations <span class=\"Bump-link-symbol float-right text-normal color-text-tertiary pr-3\">→</span></a>,\n",
       " <a class=\"py-2 lh-condensed-ultra d-block no-underline Link--primary no-underline h5 Bump-link--hover\" data-ga-click=\"(Logged out) Header, go to Sponsors\" href=\"/sponsors\">GitHub Sponsors <span class=\"Bump-link-symbol float-right text-normal color-text-tertiary pr-3\">→</span></a>,\n",
       " <a class=\"py-2 lh-condensed-ultra d-block no-underline Link--primary no-underline h5 Bump-link--hover\" data-ga-click=\"(Logged out) Header, go to Customer stories\" href=\"/customer-stories\">Customer stories<span class=\"Bump-link-symbol float-right text-normal color-text-tertiary pr-3\">→</span></a>,\n",
       " <a class=\"HeaderMenu-link no-underline py-3 d-block d-lg-inline-block\" data-ga-click=\"(Logged out) Header, go to Team\" href=\"/team\">Team</a>,\n",
       " <a class=\"HeaderMenu-link no-underline py-3 d-block d-lg-inline-block\" data-ga-click=\"(Logged out) Header, go to Enterprise\" href=\"/enterprise\">Enterprise</a>,\n",
       " <a class=\"py-2 lh-condensed-ultra d-block Link--primary no-underline h5 Bump-link--hover\" data-ga-click=\"(Logged out) Header, go to Explore\" href=\"/explore\">Explore GitHub <span class=\"Bump-link-symbol float-right text-normal color-text-tertiary pr-3\">→</span></a>,\n",
       " <a class=\"py-2 lh-condensed-ultra d-block Link--secondary no-underline f5 Bump-link--hover\" data-ga-click=\"(Logged out) Header, go to Topics\" href=\"/topics\">Topics <span class=\"Bump-link-symbol float-right text-normal color-text-tertiary pr-3\">→</span></a>,\n",
       " <a class=\"py-2 lh-condensed-ultra d-block Link--secondary no-underline f5 Bump-link--hover\" data-ga-click=\"(Logged out) Header, go to Collections\" href=\"/collections\">Collections <span class=\"Bump-link-symbol float-right text-normal color-text-tertiary pr-3\">→</span></a>,\n",
       " <a class=\"py-2 lh-condensed-ultra d-block Link--secondary no-underline f5 Bump-link--hover\" data-ga-click=\"(Logged out) Header, go to Trending\" href=\"/trending\">Trending <span class=\"Bump-link-symbol float-right text-normal color-text-tertiary pr-3\">→</span></a>,\n",
       " <a class=\"py-2 lh-condensed-ultra d-block Link--secondary no-underline f5 Bump-link--hover\" data-ga-click=\"(Logged out) Header, go to Learning lab\" href=\"https://lab.github.com/\">Learning Lab <span class=\"Bump-link-symbol float-right text-normal color-text-tertiary pr-3\">→</span></a>,\n",
       " <a class=\"py-2 lh-condensed-ultra d-block Link--secondary no-underline f5 Bump-link--hover\" data-ga-click=\"(Logged out) Header, go to Open source guides\" href=\"https://opensource.guide\">Open source guides <span class=\"Bump-link-symbol float-right text-normal color-text-tertiary pr-3\">→</span></a>,\n",
       " <a class=\"py-2 lh-condensed-ultra d-block Link--secondary no-underline f5 Bump-link--hover\" href=\"https://github.com/readme\">The ReadME Project <span class=\"Bump-link-symbol float-right text-normal color-text-tertiary pr-3\">→</span></a>,\n",
       " <a class=\"py-2 lh-condensed-ultra d-block Link--secondary no-underline f5 Bump-link--hover\" data-ga-click=\"(Logged out) Header, go to Events\" href=\"https://github.com/events\">Events <span class=\"Bump-link-symbol float-right text-normal color-text-tertiary pr-3\">→</span></a>,\n",
       " <a class=\"py-2 lh-condensed-ultra d-block Link--secondary no-underline f5 Bump-link--hover\" data-ga-click=\"(Logged out) Header, go to Community forum\" href=\"https://github.community\">Community forum <span class=\"Bump-link-symbol float-right text-normal color-text-tertiary pr-3\">→</span></a>,\n",
       " <a class=\"py-2 lh-condensed-ultra d-block Link--secondary no-underline f5 Bump-link--hover\" data-ga-click=\"(Logged out) Header, go to GitHub Education\" href=\"https://education.github.com\">GitHub Education <span class=\"Bump-link-symbol float-right text-normal color-text-tertiary pr-3\">→</span></a>,\n",
       " <a class=\"py-2 pb-0 lh-condensed-ultra d-block Link--secondary no-underline f5 Bump-link--hover\" data-ga-click=\"(Logged out) Header, go to GitHub Stars Program\" href=\"https://stars.github.com\">GitHub Stars program <span class=\"Bump-link-symbol float-right text-normal color-text-tertiary pr-3\">→</span></a>,\n",
       " <a class=\"HeaderMenu-link no-underline py-3 d-block d-lg-inline-block\" data-ga-click=\"(Logged out) Header, go to Marketplace\" href=\"/marketplace\">Marketplace</a>,\n",
       " <a class=\"pb-2 lh-condensed-ultra d-block Link--primary no-underline h5 Bump-link--hover\" data-ga-click=\"(Logged out) Header, go to Pricing\" href=\"/pricing\">Plans <span class=\"Bump-link-symbol float-right text-normal color-text-tertiary pr-3\">→</span></a>,\n",
       " <a class=\"py-2 lh-condensed-ultra d-block Link--secondary no-underline f5 Bump-link--hover\" data-ga-click=\"(Logged out) Header, go to Compare plans\" href=\"/pricing#feature-comparison\">Compare plans <span class=\"Bump-link-symbol float-right text-normal color-text-tertiary pr-3\">→</span></a>,\n",
       " <a class=\"py-2 lh-condensed-ultra d-block Link--secondary no-underline f5 Bump-link--hover\" data-ga-click=\"(Logged out) Header, go to Contact Sales\" href=\"https://enterprise.github.com/contact\">Contact Sales <span class=\"Bump-link-symbol float-right text-normal color-text-tertiary pr-3\">→</span></a>,\n",
       " <a class=\"py-2 lh-condensed-ultra d-block no-underline Link--primary no-underline h5 Bump-link--hover\" data-ga-click=\"(Logged out) Header, go to Nonprofits\" href=\"/nonprofit\">Nonprofit <span class=\"Bump-link-symbol float-right text-normal color-text-tertiary pr-3\">→</span></a>,\n",
       " <a class=\"py-2 pb-0 lh-condensed-ultra d-block no-underline Link--primary no-underline h5 Bump-link--hover\" data-ga-click=\"(Logged out) Header, go to Education\" href=\"https://education.github.com\">Education <span class=\"Bump-link-symbol float-right text-normal color-text-tertiary pr-3\">→</span></a>,\n",
       " <a class=\"no-underline d-flex flex-auto flex-items-center jump-to-suggestions-path js-jump-to-suggestion-path js-navigation-open p-2\" data-item-type=\"suggestion\" href=\"\" tabindex=\"-1\">\n",
       " <div class=\"jump-to-octicon js-jump-to-octicon flex-shrink-0 mr-2 text-center d-none\">\n",
       " <svg aria-label=\"Repository\" class=\"octicon octicon-repo flex-shrink-0 js-jump-to-octicon-repo d-none\" height=\"16\" role=\"img\" title=\"Repository\" version=\"1.1\" viewbox=\"0 0 16 16\" width=\"16\"><path d=\"M2 2.5A2.5 2.5 0 014.5 0h8.75a.75.75 0 01.75.75v12.5a.75.75 0 01-.75.75h-2.5a.75.75 0 110-1.5h1.75v-2h-8a1 1 0 00-.714 1.7.75.75 0 01-1.072 1.05A2.495 2.495 0 012 11.5v-9zm10.5-1V9h-8c-.356 0-.694.074-1 .208V2.5a1 1 0 011-1h8zM5 12.25v3.25a.25.25 0 00.4.2l1.45-1.087a.25.25 0 01.3 0L8.6 15.7a.25.25 0 00.4-.2v-3.25a.25.25 0 00-.25-.25h-3.5a.25.25 0 00-.25.25z\" fill-rule=\"evenodd\"></path></svg>\n",
       " <svg aria-label=\"Project\" class=\"octicon octicon-project flex-shrink-0 js-jump-to-octicon-project d-none\" height=\"16\" role=\"img\" title=\"Project\" version=\"1.1\" viewbox=\"0 0 16 16\" width=\"16\"><path d=\"M1.75 0A1.75 1.75 0 000 1.75v12.5C0 15.216.784 16 1.75 16h12.5A1.75 1.75 0 0016 14.25V1.75A1.75 1.75 0 0014.25 0H1.75zM1.5 1.75a.25.25 0 01.25-.25h12.5a.25.25 0 01.25.25v12.5a.25.25 0 01-.25.25H1.75a.25.25 0 01-.25-.25V1.75zM11.75 3a.75.75 0 00-.75.75v7.5a.75.75 0 001.5 0v-7.5a.75.75 0 00-.75-.75zm-8.25.75a.75.75 0 011.5 0v5.5a.75.75 0 01-1.5 0v-5.5zM8 3a.75.75 0 00-.75.75v3.5a.75.75 0 001.5 0v-3.5A.75.75 0 008 3z\" fill-rule=\"evenodd\"></path></svg>\n",
       " <svg aria-label=\"Search\" class=\"octicon octicon-search flex-shrink-0 js-jump-to-octicon-search d-none\" height=\"16\" role=\"img\" title=\"Search\" version=\"1.1\" viewbox=\"0 0 16 16\" width=\"16\"><path d=\"M11.5 7a4.499 4.499 0 11-8.998 0A4.499 4.499 0 0111.5 7zm-.82 4.74a6 6 0 111.06-1.06l3.04 3.04a.75.75 0 11-1.06 1.06l-3.04-3.04z\" fill-rule=\"evenodd\"></path></svg>\n",
       " </div>\n",
       " <img alt=\"\" aria-label=\"Team\" class=\"avatar mr-2 flex-shrink-0 js-jump-to-suggestion-avatar d-none\" height=\"28\" src=\"\" width=\"28\"/>\n",
       " <div class=\"jump-to-suggestion-name js-jump-to-suggestion-name flex-auto overflow-hidden text-left no-wrap css-truncate css-truncate-target\">\n",
       " </div>\n",
       " <div class=\"border rounded-1 flex-shrink-0 color-bg-tertiary px-1 color-text-tertiary ml-1 f6 d-none js-jump-to-badge-search\">\n",
       " <span aria-label=\"in this user\" class=\"js-jump-to-badge-search-text-default d-none\">\n",
       "         In this user\n",
       "       </span>\n",
       " <span aria-label=\"in all of GitHub\" class=\"js-jump-to-badge-search-text-global d-none\">\n",
       "         All GitHub\n",
       "       </span>\n",
       " <span aria-hidden=\"true\" class=\"d-inline-block ml-1 v-align-middle\">↵</span>\n",
       " </div>\n",
       " <div aria-hidden=\"true\" class=\"border rounded-1 flex-shrink-0 color-bg-tertiary px-1 color-text-tertiary ml-1 f6 d-none d-on-nav-focus js-jump-to-badge-jump\">\n",
       "       Jump to\n",
       "       <span class=\"d-inline-block ml-1 v-align-middle\">↵</span>\n",
       " </div>\n",
       " </a>,\n",
       " <a class=\"no-underline d-flex flex-auto flex-items-center jump-to-suggestions-path js-jump-to-suggestion-path js-navigation-open p-2\" data-item-type=\"scoped_search\" href=\"\" tabindex=\"-1\">\n",
       " <div class=\"jump-to-octicon js-jump-to-octicon flex-shrink-0 mr-2 text-center d-none\">\n",
       " <svg aria-label=\"Repository\" class=\"octicon octicon-repo flex-shrink-0 js-jump-to-octicon-repo d-none\" height=\"16\" role=\"img\" title=\"Repository\" version=\"1.1\" viewbox=\"0 0 16 16\" width=\"16\"><path d=\"M2 2.5A2.5 2.5 0 014.5 0h8.75a.75.75 0 01.75.75v12.5a.75.75 0 01-.75.75h-2.5a.75.75 0 110-1.5h1.75v-2h-8a1 1 0 00-.714 1.7.75.75 0 01-1.072 1.05A2.495 2.495 0 012 11.5v-9zm10.5-1V9h-8c-.356 0-.694.074-1 .208V2.5a1 1 0 011-1h8zM5 12.25v3.25a.25.25 0 00.4.2l1.45-1.087a.25.25 0 01.3 0L8.6 15.7a.25.25 0 00.4-.2v-3.25a.25.25 0 00-.25-.25h-3.5a.25.25 0 00-.25.25z\" fill-rule=\"evenodd\"></path></svg>\n",
       " <svg aria-label=\"Project\" class=\"octicon octicon-project flex-shrink-0 js-jump-to-octicon-project d-none\" height=\"16\" role=\"img\" title=\"Project\" version=\"1.1\" viewbox=\"0 0 16 16\" width=\"16\"><path d=\"M1.75 0A1.75 1.75 0 000 1.75v12.5C0 15.216.784 16 1.75 16h12.5A1.75 1.75 0 0016 14.25V1.75A1.75 1.75 0 0014.25 0H1.75zM1.5 1.75a.25.25 0 01.25-.25h12.5a.25.25 0 01.25.25v12.5a.25.25 0 01-.25.25H1.75a.25.25 0 01-.25-.25V1.75zM11.75 3a.75.75 0 00-.75.75v7.5a.75.75 0 001.5 0v-7.5a.75.75 0 00-.75-.75zm-8.25.75a.75.75 0 011.5 0v5.5a.75.75 0 01-1.5 0v-5.5zM8 3a.75.75 0 00-.75.75v3.5a.75.75 0 001.5 0v-3.5A.75.75 0 008 3z\" fill-rule=\"evenodd\"></path></svg>\n",
       " <svg aria-label=\"Search\" class=\"octicon octicon-search flex-shrink-0 js-jump-to-octicon-search d-none\" height=\"16\" role=\"img\" title=\"Search\" version=\"1.1\" viewbox=\"0 0 16 16\" width=\"16\"><path d=\"M11.5 7a4.499 4.499 0 11-8.998 0A4.499 4.499 0 0111.5 7zm-.82 4.74a6 6 0 111.06-1.06l3.04 3.04a.75.75 0 11-1.06 1.06l-3.04-3.04z\" fill-rule=\"evenodd\"></path></svg>\n",
       " </div>\n",
       " <img alt=\"\" aria-label=\"Team\" class=\"avatar mr-2 flex-shrink-0 js-jump-to-suggestion-avatar d-none\" height=\"28\" src=\"\" width=\"28\"/>\n",
       " <div class=\"jump-to-suggestion-name js-jump-to-suggestion-name flex-auto overflow-hidden text-left no-wrap css-truncate css-truncate-target\">\n",
       " </div>\n",
       " <div class=\"border rounded-1 flex-shrink-0 color-bg-tertiary px-1 color-text-tertiary ml-1 f6 d-none js-jump-to-badge-search\">\n",
       " <span aria-label=\"in this user\" class=\"js-jump-to-badge-search-text-default d-none\">\n",
       "         In this user\n",
       "       </span>\n",
       " <span aria-label=\"in all of GitHub\" class=\"js-jump-to-badge-search-text-global d-none\">\n",
       "         All GitHub\n",
       "       </span>\n",
       " <span aria-hidden=\"true\" class=\"d-inline-block ml-1 v-align-middle\">↵</span>\n",
       " </div>\n",
       " <div aria-hidden=\"true\" class=\"border rounded-1 flex-shrink-0 color-bg-tertiary px-1 color-text-tertiary ml-1 f6 d-none d-on-nav-focus js-jump-to-badge-jump\">\n",
       "       Jump to\n",
       "       <span class=\"d-inline-block ml-1 v-align-middle\">↵</span>\n",
       " </div>\n",
       " </a>,\n",
       " <a class=\"no-underline d-flex flex-auto flex-items-center jump-to-suggestions-path js-jump-to-suggestion-path js-navigation-open p-2\" data-item-type=\"owner_scoped_search\" href=\"\" tabindex=\"-1\">\n",
       " <div class=\"jump-to-octicon js-jump-to-octicon flex-shrink-0 mr-2 text-center d-none\">\n",
       " <svg aria-label=\"Repository\" class=\"octicon octicon-repo flex-shrink-0 js-jump-to-octicon-repo d-none\" height=\"16\" role=\"img\" title=\"Repository\" version=\"1.1\" viewbox=\"0 0 16 16\" width=\"16\"><path d=\"M2 2.5A2.5 2.5 0 014.5 0h8.75a.75.75 0 01.75.75v12.5a.75.75 0 01-.75.75h-2.5a.75.75 0 110-1.5h1.75v-2h-8a1 1 0 00-.714 1.7.75.75 0 01-1.072 1.05A2.495 2.495 0 012 11.5v-9zm10.5-1V9h-8c-.356 0-.694.074-1 .208V2.5a1 1 0 011-1h8zM5 12.25v3.25a.25.25 0 00.4.2l1.45-1.087a.25.25 0 01.3 0L8.6 15.7a.25.25 0 00.4-.2v-3.25a.25.25 0 00-.25-.25h-3.5a.25.25 0 00-.25.25z\" fill-rule=\"evenodd\"></path></svg>\n",
       " <svg aria-label=\"Project\" class=\"octicon octicon-project flex-shrink-0 js-jump-to-octicon-project d-none\" height=\"16\" role=\"img\" title=\"Project\" version=\"1.1\" viewbox=\"0 0 16 16\" width=\"16\"><path d=\"M1.75 0A1.75 1.75 0 000 1.75v12.5C0 15.216.784 16 1.75 16h12.5A1.75 1.75 0 0016 14.25V1.75A1.75 1.75 0 0014.25 0H1.75zM1.5 1.75a.25.25 0 01.25-.25h12.5a.25.25 0 01.25.25v12.5a.25.25 0 01-.25.25H1.75a.25.25 0 01-.25-.25V1.75zM11.75 3a.75.75 0 00-.75.75v7.5a.75.75 0 001.5 0v-7.5a.75.75 0 00-.75-.75zm-8.25.75a.75.75 0 011.5 0v5.5a.75.75 0 01-1.5 0v-5.5zM8 3a.75.75 0 00-.75.75v3.5a.75.75 0 001.5 0v-3.5A.75.75 0 008 3z\" fill-rule=\"evenodd\"></path></svg>\n",
       " <svg aria-label=\"Search\" class=\"octicon octicon-search flex-shrink-0 js-jump-to-octicon-search d-none\" height=\"16\" role=\"img\" title=\"Search\" version=\"1.1\" viewbox=\"0 0 16 16\" width=\"16\"><path d=\"M11.5 7a4.499 4.499 0 11-8.998 0A4.499 4.499 0 0111.5 7zm-.82 4.74a6 6 0 111.06-1.06l3.04 3.04a.75.75 0 11-1.06 1.06l-3.04-3.04z\" fill-rule=\"evenodd\"></path></svg>\n",
       " </div>\n",
       " <img alt=\"\" aria-label=\"Team\" class=\"avatar mr-2 flex-shrink-0 js-jump-to-suggestion-avatar d-none\" height=\"28\" src=\"\" width=\"28\"/>\n",
       " <div class=\"jump-to-suggestion-name js-jump-to-suggestion-name flex-auto overflow-hidden text-left no-wrap css-truncate css-truncate-target\">\n",
       " </div>\n",
       " <div class=\"border rounded-1 flex-shrink-0 color-bg-tertiary px-1 color-text-tertiary ml-1 f6 d-none js-jump-to-badge-search\">\n",
       " <span aria-label=\"in all of GitHub\" class=\"js-jump-to-badge-search-text-default d-none\">\n",
       "         Search\n",
       "       </span>\n",
       " <span aria-label=\"in all of GitHub\" class=\"js-jump-to-badge-search-text-global d-none\">\n",
       "         All GitHub\n",
       "       </span>\n",
       " <span aria-hidden=\"true\" class=\"d-inline-block ml-1 v-align-middle\">↵</span>\n",
       " </div>\n",
       " <div aria-hidden=\"true\" class=\"border rounded-1 flex-shrink-0 color-bg-tertiary px-1 color-text-tertiary ml-1 f6 d-none d-on-nav-focus js-jump-to-badge-jump\">\n",
       "       Jump to\n",
       "       <span class=\"d-inline-block ml-1 v-align-middle\">↵</span>\n",
       " </div>\n",
       " </a>,\n",
       " <a class=\"no-underline d-flex flex-auto flex-items-center jump-to-suggestions-path js-jump-to-suggestion-path js-navigation-open p-2\" data-item-type=\"global_search\" href=\"\" tabindex=\"-1\">\n",
       " <div class=\"jump-to-octicon js-jump-to-octicon flex-shrink-0 mr-2 text-center d-none\">\n",
       " <svg aria-label=\"Repository\" class=\"octicon octicon-repo flex-shrink-0 js-jump-to-octicon-repo d-none\" height=\"16\" role=\"img\" title=\"Repository\" version=\"1.1\" viewbox=\"0 0 16 16\" width=\"16\"><path d=\"M2 2.5A2.5 2.5 0 014.5 0h8.75a.75.75 0 01.75.75v12.5a.75.75 0 01-.75.75h-2.5a.75.75 0 110-1.5h1.75v-2h-8a1 1 0 00-.714 1.7.75.75 0 01-1.072 1.05A2.495 2.495 0 012 11.5v-9zm10.5-1V9h-8c-.356 0-.694.074-1 .208V2.5a1 1 0 011-1h8zM5 12.25v3.25a.25.25 0 00.4.2l1.45-1.087a.25.25 0 01.3 0L8.6 15.7a.25.25 0 00.4-.2v-3.25a.25.25 0 00-.25-.25h-3.5a.25.25 0 00-.25.25z\" fill-rule=\"evenodd\"></path></svg>\n",
       " <svg aria-label=\"Project\" class=\"octicon octicon-project flex-shrink-0 js-jump-to-octicon-project d-none\" height=\"16\" role=\"img\" title=\"Project\" version=\"1.1\" viewbox=\"0 0 16 16\" width=\"16\"><path d=\"M1.75 0A1.75 1.75 0 000 1.75v12.5C0 15.216.784 16 1.75 16h12.5A1.75 1.75 0 0016 14.25V1.75A1.75 1.75 0 0014.25 0H1.75zM1.5 1.75a.25.25 0 01.25-.25h12.5a.25.25 0 01.25.25v12.5a.25.25 0 01-.25.25H1.75a.25.25 0 01-.25-.25V1.75zM11.75 3a.75.75 0 00-.75.75v7.5a.75.75 0 001.5 0v-7.5a.75.75 0 00-.75-.75zm-8.25.75a.75.75 0 011.5 0v5.5a.75.75 0 01-1.5 0v-5.5zM8 3a.75.75 0 00-.75.75v3.5a.75.75 0 001.5 0v-3.5A.75.75 0 008 3z\" fill-rule=\"evenodd\"></path></svg>\n",
       " <svg aria-label=\"Search\" class=\"octicon octicon-search flex-shrink-0 js-jump-to-octicon-search d-none\" height=\"16\" role=\"img\" title=\"Search\" version=\"1.1\" viewbox=\"0 0 16 16\" width=\"16\"><path d=\"M11.5 7a4.499 4.499 0 11-8.998 0A4.499 4.499 0 0111.5 7zm-.82 4.74a6 6 0 111.06-1.06l3.04 3.04a.75.75 0 11-1.06 1.06l-3.04-3.04z\" fill-rule=\"evenodd\"></path></svg>\n",
       " </div>\n",
       " <img alt=\"\" aria-label=\"Team\" class=\"avatar mr-2 flex-shrink-0 js-jump-to-suggestion-avatar d-none\" height=\"28\" src=\"\" width=\"28\"/>\n",
       " <div class=\"jump-to-suggestion-name js-jump-to-suggestion-name flex-auto overflow-hidden text-left no-wrap css-truncate css-truncate-target\">\n",
       " </div>\n",
       " <div class=\"border rounded-1 flex-shrink-0 color-bg-tertiary px-1 color-text-tertiary ml-1 f6 d-none js-jump-to-badge-search\">\n",
       " <span aria-label=\"in this user\" class=\"js-jump-to-badge-search-text-default d-none\">\n",
       "         In this user\n",
       "       </span>\n",
       " <span aria-label=\"in all of GitHub\" class=\"js-jump-to-badge-search-text-global d-none\">\n",
       "         All GitHub\n",
       "       </span>\n",
       " <span aria-hidden=\"true\" class=\"d-inline-block ml-1 v-align-middle\">↵</span>\n",
       " </div>\n",
       " <div aria-hidden=\"true\" class=\"border rounded-1 flex-shrink-0 color-bg-tertiary px-1 color-text-tertiary ml-1 f6 d-none d-on-nav-focus js-jump-to-badge-jump\">\n",
       "       Jump to\n",
       "       <span class=\"d-inline-block ml-1 v-align-middle\">↵</span>\n",
       " </div>\n",
       " </a>,\n",
       " <a class=\"HeaderMenu-link flex-shrink-0 no-underline mr-3\" data-ga-click=\"(Logged out) Header, clicked Sign in, text:sign-in\" data-hydro-click='{\"event_type\":\"authentication.click\",\"payload\":{\"location_in_page\":\"site header menu\",\"repository_id\":null,\"auth_type\":\"SIGN_UP\",\"originating_url\":\"https://github.com/HJNVR\",\"user_id\":null}}' data-hydro-click-hmac=\"7b5ec7243c771f693182464b64dedfad75783ee3bf431eb290c2fe4c7ecc1e3f\" href=\"/login?return_to=%2FHJNVR\">\n",
       "           Sign in\n",
       "         </a>,\n",
       " <a class=\"HeaderMenu-link flex-shrink-0 d-inline-block no-underline border color-border-tertiary rounded px-2 py-1 js-signup-redesign-target js-signup-redesign-control\" data-hydro-click='{\"event_type\":\"analytics.click\",\"payload\":{\"category\":\"Sign up\",\"action\":\"click to sign up for account\",\"label\":\"ref_page:/&lt;user-name&gt;;ref_cta:Sign up;ref_loc:header logged out\",\"originating_url\":\"https://github.com/HJNVR\",\"user_id\":null}}' data-hydro-click-hmac=\"df3f11f6e34e28544bc3dabf4de474ce99114b7c4ecf0beb4d7b0fb4f25acc68\" href=\"/join?ref_cta=Sign+up&amp;ref_loc=header+logged+out&amp;ref_page=%2F%3Cuser-name%3E&amp;source=header\">\n",
       "               Sign up\n",
       "             </a>,\n",
       " <a class=\"HeaderMenu-link flex-shrink-0 d-inline-block no-underline border color-border-tertiary rounded-1 px-2 py-1 js-signup-redesign-target js-signup-redesign-variation\" data-hydro-click='{\"event_type\":\"analytics.click\",\"payload\":{\"category\":\"Sign up\",\"action\":\"click to sign up for account\",\"label\":\"ref_page:/&lt;user-name&gt;;ref_cta:Sign up;ref_loc:header logged out\",\"originating_url\":\"https://github.com/HJNVR\",\"user_id\":null}}' data-hydro-click-hmac=\"df3f11f6e34e28544bc3dabf4de474ce99114b7c4ecf0beb4d7b0fb4f25acc68\" hidden=\"\" href=\"/join_next?ref_cta=Sign+up&amp;ref_loc=header+logged+out&amp;ref_page=%2F%3Cuser-name%3E&amp;source=header\">\n",
       "               Sign up\n",
       "             </a>,\n",
       " <a class=\"btn btn-sm mini-follow-button\" data-hydro-click='{\"event_type\":\"authentication.click\",\"payload\":{\"location_in_page\":\"follow button\",\"repository_id\":null,\"auth_type\":\"LOG_IN\",\"originating_url\":\"https://github.com/HJNVR\",\"user_id\":null}}' data-hydro-click-hmac=\"004e9b0d219a86ecc647d6d5b4e5ab3b4200478e9a7548db2eef6bc58dd3f41f\" href=\"/login?return_to=%2FHJNVR\">Follow</a>,\n",
       " <a aria-current=\"page\" class=\"UnderlineNav-item selected\" data-hydro-click='{\"event_type\":\"user_profile.click\",\"payload\":{\"profile_user_id\":34841349,\"target\":\"TAB_OVERVIEW\",\"user_id\":null,\"originating_url\":\"https://github.com/HJNVR\"}}' data-hydro-click-hmac=\"2ae772b11a17b7104b3f079abae4f38028444a98bafd819afb563e42d2194a50\" href=\"/HJNVR\">\n",
       " <svg aria-hidden=\"true\" class=\"octicon octicon-book UnderlineNav-octicon hide-sm\" height=\"16\" version=\"1.1\" viewbox=\"0 0 16 16\" width=\"16\"><path d=\"M0 1.75A.75.75 0 01.75 1h4.253c1.227 0 2.317.59 3 1.501A3.744 3.744 0 0111.006 1h4.245a.75.75 0 01.75.75v10.5a.75.75 0 01-.75.75h-4.507a2.25 2.25 0 00-1.591.659l-.622.621a.75.75 0 01-1.06 0l-.622-.621A2.25 2.25 0 005.258 13H.75a.75.75 0 01-.75-.75V1.75zm8.755 3a2.25 2.25 0 012.25-2.25H14.5v9h-3.757c-.71 0-1.4.201-1.992.572l.004-7.322zm-1.504 7.324l.004-5.073-.002-2.253A2.25 2.25 0 005.003 2.5H1.5v9h3.757a3.75 3.75 0 011.994.574z\" fill-rule=\"evenodd\"></path></svg>\n",
       "     Overview\n",
       " </a>,\n",
       " <a class=\"UnderlineNav-item\" data-hydro-click='{\"event_type\":\"user_profile.click\",\"payload\":{\"profile_user_id\":34841349,\"target\":\"TAB_REPOSITORIES\",\"user_id\":null,\"originating_url\":\"https://github.com/HJNVR\"}}' data-hydro-click-hmac=\"dbd2904ee87fe0c2b2af0c958dc6cd7132387258a79fe171c01eee262b7daae6\" href=\"/HJNVR?tab=repositories\">\n",
       " <svg aria-hidden=\"true\" class=\"octicon octicon-repo UnderlineNav-octicon hide-sm\" height=\"16\" version=\"1.1\" viewbox=\"0 0 16 16\" width=\"16\"><path d=\"M2 2.5A2.5 2.5 0 014.5 0h8.75a.75.75 0 01.75.75v12.5a.75.75 0 01-.75.75h-2.5a.75.75 0 110-1.5h1.75v-2h-8a1 1 0 00-.714 1.7.75.75 0 01-1.072 1.05A2.495 2.495 0 012 11.5v-9zm10.5-1V9h-8c-.356 0-.694.074-1 .208V2.5a1 1 0 011-1h8zM5 12.25v3.25a.25.25 0 00.4.2l1.45-1.087a.25.25 0 01.3 0L8.6 15.7a.25.25 0 00.4-.2v-3.25a.25.25 0 00-.25-.25h-3.5a.25.25 0 00-.25.25z\" fill-rule=\"evenodd\"></path></svg>\n",
       "     Repositories\n",
       "     <span class=\"Counter\" title=\"17\">17</span>\n",
       " </a>,\n",
       " <a class=\"UnderlineNav-item\" data-hydro-click='{\"event_type\":\"user_profile.click\",\"payload\":{\"profile_user_id\":34841349,\"target\":\"TAB_PROJECTS\",\"user_id\":null,\"originating_url\":\"https://github.com/HJNVR\"}}' data-hydro-click-hmac=\"0c839209c3bf61b4cb34453f62424d688afb20c5649e510c7c7541aaedb5aa3d\" href=\"/HJNVR?tab=projects\">\n",
       " <svg aria-hidden=\"true\" class=\"octicon octicon-project UnderlineNav-octicon hide-sm\" height=\"16\" version=\"1.1\" viewbox=\"0 0 16 16\" width=\"16\"><path d=\"M1.75 0A1.75 1.75 0 000 1.75v12.5C0 15.216.784 16 1.75 16h12.5A1.75 1.75 0 0016 14.25V1.75A1.75 1.75 0 0014.25 0H1.75zM1.5 1.75a.25.25 0 01.25-.25h12.5a.25.25 0 01.25.25v12.5a.25.25 0 01-.25.25H1.75a.25.25 0 01-.25-.25V1.75zM11.75 3a.75.75 0 00-.75.75v7.5a.75.75 0 001.5 0v-7.5a.75.75 0 00-.75-.75zm-8.25.75a.75.75 0 011.5 0v5.5a.75.75 0 01-1.5 0v-5.5zM8 3a.75.75 0 00-.75.75v3.5a.75.75 0 001.5 0v-3.5A.75.75 0 008 3z\" fill-rule=\"evenodd\"></path></svg>\n",
       "     Projects\n",
       "     <span class=\"Counter\" hidden=\"hidden\" title=\"0\">0</span>\n",
       " </a>,\n",
       " <a class=\"UnderlineNav-item\" data-hydro-click='{\"event_type\":\"user_profile.click\",\"payload\":{\"profile_user_id\":34841349,\"target\":\"TAB_PACKAGES\",\"user_id\":null,\"originating_url\":\"https://github.com/HJNVR\"}}' data-hydro-click-hmac=\"f8f8f555c3e42bf099b4cbfb41cf584093cc081ef2f0bab080e6654cb34fe3dd\" href=\"/HJNVR?tab=packages\">\n",
       " <svg aria-hidden=\"true\" class=\"octicon octicon-package UnderlineNav-octicon hide-sm\" height=\"16\" version=\"1.1\" viewbox=\"0 0 16 16\" width=\"16\"><path d=\"M8.878.392a1.75 1.75 0 00-1.756 0l-5.25 3.045A1.75 1.75 0 001 4.951v6.098c0 .624.332 1.2.872 1.514l5.25 3.045a1.75 1.75 0 001.756 0l5.25-3.045c.54-.313.872-.89.872-1.514V4.951c0-.624-.332-1.2-.872-1.514L8.878.392zM7.875 1.69a.25.25 0 01.25 0l4.63 2.685L8 7.133 3.245 4.375l4.63-2.685zM2.5 5.677v5.372c0 .09.047.171.125.216l4.625 2.683V8.432L2.5 5.677zm6.25 8.271l4.625-2.683a.25.25 0 00.125-.216V5.677L8.75 8.432v5.516z\" fill-rule=\"evenodd\"></path></svg>\n",
       "       Packages\n",
       " </a>,\n",
       " <a class=\"btn btn-sm mini-follow-button\" data-hydro-click='{\"event_type\":\"authentication.click\",\"payload\":{\"location_in_page\":\"follow button\",\"repository_id\":null,\"auth_type\":\"LOG_IN\",\"originating_url\":\"https://github.com/HJNVR\",\"user_id\":null}}' data-hydro-click-hmac=\"004e9b0d219a86ecc647d6d5b4e5ab3b4200478e9a7548db2eef6bc58dd3f41f\" href=\"/login?return_to=%2FHJNVR\">Follow</a>,\n",
       " <a href=\"https://avatars.githubusercontent.com/u/34841349?s=400&amp;u=40701538a585b1a42d9ab5326757b7e400413626&amp;v=4\" itemprop=\"image\"><img alt=\"Avatar\" class=\"avatar avatar-user width-full border color-bg-primary\" height=\"260\" src=\"https://avatars.githubusercontent.com/u/34841349?s=460&amp;u=40701538a585b1a42d9ab5326757b7e400413626&amp;v=4\" style=\"height:auto;\" width=\"260\"/></a>,\n",
       " <a class=\"btn btn-block\" data-hydro-click='{\"event_type\":\"authentication.click\",\"payload\":{\"location_in_page\":\"follow button\",\"repository_id\":null,\"auth_type\":\"LOG_IN\",\"originating_url\":\"https://github.com/HJNVR\",\"user_id\":null}}' data-hydro-click-hmac=\"004e9b0d219a86ecc647d6d5b4e5ab3b4200478e9a7548db2eef6bc58dd3f41f\" href=\"/login?return_to=%2FHJNVR\">Follow</a>,\n",
       " <a href=\"https://docs.github.com/en/articles/blocking-a-user-from-your-personal-account\">blocking users</a>,\n",
       " <a href=\"https://docs.github.com/en/articles/reporting-abuse-or-spam\">reporting abuse</a>,\n",
       " <a class=\"btn btn-danger\" href=\"/contact/report-abuse?report=HJNVR+%28user%29\">Report abuse</a>,\n",
       " <a class=\"Link--secondary no-underline no-wrap\" href=\"/HJNVR?tab=followers\">\n",
       " <svg aria-hidden=\"true\" class=\"octicon octicon-people text-gray-light\" height=\"16\" version=\"1.1\" viewbox=\"0 0 16 16\" width=\"16\"><path d=\"M5.5 3.5a2 2 0 100 4 2 2 0 000-4zM2 5.5a3.5 3.5 0 115.898 2.549 5.507 5.507 0 013.034 4.084.75.75 0 11-1.482.235 4.001 4.001 0 00-7.9 0 .75.75 0 01-1.482-.236A5.507 5.507 0 013.102 8.05 3.49 3.49 0 012 5.5zM11 4a.75.75 0 100 1.5 1.5 1.5 0 01.666 2.844.75.75 0 00-.416.672v.352a.75.75 0 00.574.73c1.2.289 2.162 1.2 2.522 2.372a.75.75 0 101.434-.44 5.01 5.01 0 00-2.56-3.012A3 3 0 0011 4z\" fill-rule=\"evenodd\"></path></svg>\n",
       " <span class=\"text-bold color-text-primary\">1</span>\n",
       "           follower\n",
       " </a>,\n",
       " <a class=\"Link--secondary no-underline no-wrap\" href=\"/HJNVR?tab=following\">\n",
       " <span class=\"text-bold color-text-primary\">1</span>\n",
       "           following\n",
       " </a>,\n",
       " <a class=\"Link--secondary no-underline no-wrap\" href=\"/HJNVR?tab=stars\">\n",
       " <svg aria-hidden=\"true\" class=\"octicon octicon-star text-gray-light\" height=\"16\" version=\"1.1\" viewbox=\"0 0 16 16\" width=\"16\"><path d=\"M8 .25a.75.75 0 01.673.418l1.882 3.815 4.21.612a.75.75 0 01.416 1.279l-3.046 2.97.719 4.192a.75.75 0 01-1.088.791L8 12.347l-3.766 1.98a.75.75 0 01-1.088-.79l.72-4.194L.818 6.374a.75.75 0 01.416-1.28l4.21-.611L7.327.668A.75.75 0 018 .25zm0 2.445L6.615 5.5a.75.75 0 01-.564.41l-3.097.45 2.24 2.184a.75.75 0 01.216.664l-.528 3.084 2.769-1.456a.75.75 0 01.698 0l2.77 1.456-.53-3.084a.75.75 0 01.216-.664l2.24-2.183-3.096-.45a.75.75 0 01-.564-.41L8 2.694v.001z\" fill-rule=\"evenodd\"></path></svg>\n",
       " <span class=\"text-bold color-text-primary\">0</span>\n",
       " </a>,\n",
       " <a aria-current=\"page\" class=\"UnderlineNav-item selected\" data-hydro-click='{\"event_type\":\"user_profile.click\",\"payload\":{\"profile_user_id\":34841349,\"target\":\"TAB_OVERVIEW\",\"user_id\":null,\"originating_url\":\"https://github.com/HJNVR\"}}' data-hydro-click-hmac=\"2ae772b11a17b7104b3f079abae4f38028444a98bafd819afb563e42d2194a50\" href=\"/HJNVR\">\n",
       " <svg aria-hidden=\"true\" class=\"octicon octicon-book UnderlineNav-octicon hide-sm\" height=\"16\" version=\"1.1\" viewbox=\"0 0 16 16\" width=\"16\"><path d=\"M0 1.75A.75.75 0 01.75 1h4.253c1.227 0 2.317.59 3 1.501A3.744 3.744 0 0111.006 1h4.245a.75.75 0 01.75.75v10.5a.75.75 0 01-.75.75h-4.507a2.25 2.25 0 00-1.591.659l-.622.621a.75.75 0 01-1.06 0l-.622-.621A2.25 2.25 0 005.258 13H.75a.75.75 0 01-.75-.75V1.75zm8.755 3a2.25 2.25 0 012.25-2.25H14.5v9h-3.757c-.71 0-1.4.201-1.992.572l.004-7.322zm-1.504 7.324l.004-5.073-.002-2.253A2.25 2.25 0 005.003 2.5H1.5v9h3.757a3.75 3.75 0 011.994.574z\" fill-rule=\"evenodd\"></path></svg>\n",
       "     Overview\n",
       " </a>,\n",
       " <a class=\"UnderlineNav-item\" data-hydro-click='{\"event_type\":\"user_profile.click\",\"payload\":{\"profile_user_id\":34841349,\"target\":\"TAB_REPOSITORIES\",\"user_id\":null,\"originating_url\":\"https://github.com/HJNVR\"}}' data-hydro-click-hmac=\"dbd2904ee87fe0c2b2af0c958dc6cd7132387258a79fe171c01eee262b7daae6\" href=\"/HJNVR?tab=repositories\">\n",
       " <svg aria-hidden=\"true\" class=\"octicon octicon-repo UnderlineNav-octicon hide-sm\" height=\"16\" version=\"1.1\" viewbox=\"0 0 16 16\" width=\"16\"><path d=\"M2 2.5A2.5 2.5 0 014.5 0h8.75a.75.75 0 01.75.75v12.5a.75.75 0 01-.75.75h-2.5a.75.75 0 110-1.5h1.75v-2h-8a1 1 0 00-.714 1.7.75.75 0 01-1.072 1.05A2.495 2.495 0 012 11.5v-9zm10.5-1V9h-8c-.356 0-.694.074-1 .208V2.5a1 1 0 011-1h8zM5 12.25v3.25a.25.25 0 00.4.2l1.45-1.087a.25.25 0 01.3 0L8.6 15.7a.25.25 0 00.4-.2v-3.25a.25.25 0 00-.25-.25h-3.5a.25.25 0 00-.25.25z\" fill-rule=\"evenodd\"></path></svg>\n",
       "     Repositories\n",
       "     <span class=\"Counter\" title=\"17\">17</span>\n",
       " </a>,\n",
       " <a class=\"UnderlineNav-item\" data-hydro-click='{\"event_type\":\"user_profile.click\",\"payload\":{\"profile_user_id\":34841349,\"target\":\"TAB_PROJECTS\",\"user_id\":null,\"originating_url\":\"https://github.com/HJNVR\"}}' data-hydro-click-hmac=\"0c839209c3bf61b4cb34453f62424d688afb20c5649e510c7c7541aaedb5aa3d\" href=\"/HJNVR?tab=projects\">\n",
       " <svg aria-hidden=\"true\" class=\"octicon octicon-project UnderlineNav-octicon hide-sm\" height=\"16\" version=\"1.1\" viewbox=\"0 0 16 16\" width=\"16\"><path d=\"M1.75 0A1.75 1.75 0 000 1.75v12.5C0 15.216.784 16 1.75 16h12.5A1.75 1.75 0 0016 14.25V1.75A1.75 1.75 0 0014.25 0H1.75zM1.5 1.75a.25.25 0 01.25-.25h12.5a.25.25 0 01.25.25v12.5a.25.25 0 01-.25.25H1.75a.25.25 0 01-.25-.25V1.75zM11.75 3a.75.75 0 00-.75.75v7.5a.75.75 0 001.5 0v-7.5a.75.75 0 00-.75-.75zm-8.25.75a.75.75 0 011.5 0v5.5a.75.75 0 01-1.5 0v-5.5zM8 3a.75.75 0 00-.75.75v3.5a.75.75 0 001.5 0v-3.5A.75.75 0 008 3z\" fill-rule=\"evenodd\"></path></svg>\n",
       "     Projects\n",
       "     <span class=\"Counter\" hidden=\"hidden\" title=\"0\">0</span>\n",
       " </a>,\n",
       " <a class=\"UnderlineNav-item\" data-hydro-click='{\"event_type\":\"user_profile.click\",\"payload\":{\"profile_user_id\":34841349,\"target\":\"TAB_PACKAGES\",\"user_id\":null,\"originating_url\":\"https://github.com/HJNVR\"}}' data-hydro-click-hmac=\"f8f8f555c3e42bf099b4cbfb41cf584093cc081ef2f0bab080e6654cb34fe3dd\" href=\"/HJNVR?tab=packages\">\n",
       " <svg aria-hidden=\"true\" class=\"octicon octicon-package UnderlineNav-octicon hide-sm\" height=\"16\" version=\"1.1\" viewbox=\"0 0 16 16\" width=\"16\"><path d=\"M8.878.392a1.75 1.75 0 00-1.756 0l-5.25 3.045A1.75 1.75 0 001 4.951v6.098c0 .624.332 1.2.872 1.514l5.25 3.045a1.75 1.75 0 001.756 0l5.25-3.045c.54-.313.872-.89.872-1.514V4.951c0-.624-.332-1.2-.872-1.514L8.878.392zM7.875 1.69a.25.25 0 01.25 0l4.63 2.685L8 7.133 3.245 4.375l4.63-2.685zM2.5 5.677v5.372c0 .09.047.171.125.216l4.625 2.683V8.432L2.5 5.677zm6.25 8.271l4.625-2.683a.25.25 0 00.125-.216V5.677L8.75 8.432v5.516z\" fill-rule=\"evenodd\"></path></svg>\n",
       "       Packages\n",
       " </a>,\n",
       " <a class=\"text-bold flex-auto min-width-0\" href=\"/HJNVR/WebDriverAgent\">\n",
       " <span class=\"repo\" title=\"WebDriverAgent\">WebDriverAgent</span>\n",
       " </a>,\n",
       " <a class=\"Link--muted\" href=\"/facebookarchive/WebDriverAgent\">facebookarchive/WebDriverAgent</a>,\n",
       " <a class=\"text-bold flex-auto min-width-0\" href=\"/HJNVR/game\">\n",
       " <span class=\"repo\" title=\"game\">game</span>\n",
       " </a>,\n",
       " <a class=\"text-bold flex-auto min-width-0\" href=\"/HJNVR/Git2GitHub\">\n",
       " <span class=\"repo\" title=\"Git2GitHub\">Git2GitHub</span>\n",
       " </a>,\n",
       " <a class=\"text-bold flex-auto min-width-0\" href=\"/HJNVR/bootstrap\">\n",
       " <span class=\"repo\" title=\"bootstrap\">bootstrap</span>\n",
       " </a>,\n",
       " <a class=\"Link--muted\" href=\"/twbs/bootstrap\">twbs/bootstrap</a>,\n",
       " <a class=\"text-bold flex-auto min-width-0\" href=\"/HJNVR/gitignore\">\n",
       " <span class=\"repo\" title=\"gitignore\">gitignore</span>\n",
       " </a>,\n",
       " <a class=\"Link--muted\" href=\"/github/gitignore\">github/gitignore</a>,\n",
       " <a class=\"text-bold flex-auto min-width-0\" href=\"/HJNVR/UTM_CSC209\">\n",
       " <span class=\"repo\" title=\"UTM_CSC209\">UTM_CSC209</span>\n",
       " </a>,\n",
       " <a class=\"Link--muted\" href=\"https://docs.github.com/articles/why-are-my-contributions-not-showing-up-on-my-profile\">\n",
       "               Learn how we count contributions</a>,\n",
       " <a aria-label=\"Contribution activity in 2021\" class=\"js-year-link filter-item px-3 mb-2 py-2 selected\" data-hydro-click='{\"event_type\":\"user_profile.click\",\"payload\":{\"profile_user_id\":34841349,\"target\":\"CONTRIBUTION_YEAR_LINK\",\"user_id\":null,\"originating_url\":\"https://github.com/HJNVR\"}}' data-hydro-click-hmac=\"a2d50867e49910e09d168d12baf9818f64e2fffd1b4bfa39b9f56b4b4cf6b705\" href=\"/HJNVR?tab=overview&amp;from=2021-03-01&amp;to=2021-03-15\" id=\"year-link-2021\">2021</a>,\n",
       " <a aria-label=\"Contribution activity in 2020\" class=\"js-year-link filter-item px-3 mb-2 py-2\" data-hydro-click='{\"event_type\":\"user_profile.click\",\"payload\":{\"profile_user_id\":34841349,\"target\":\"CONTRIBUTION_YEAR_LINK\",\"user_id\":null,\"originating_url\":\"https://github.com/HJNVR\"}}' data-hydro-click-hmac=\"a2d50867e49910e09d168d12baf9818f64e2fffd1b4bfa39b9f56b4b4cf6b705\" href=\"/HJNVR?tab=overview&amp;from=2020-12-01&amp;to=2020-12-31\" id=\"year-link-2020\">2020</a>,\n",
       " <a aria-label=\"Contribution activity in 2019\" class=\"js-year-link filter-item px-3 mb-2 py-2\" data-hydro-click='{\"event_type\":\"user_profile.click\",\"payload\":{\"profile_user_id\":34841349,\"target\":\"CONTRIBUTION_YEAR_LINK\",\"user_id\":null,\"originating_url\":\"https://github.com/HJNVR\"}}' data-hydro-click-hmac=\"a2d50867e49910e09d168d12baf9818f64e2fffd1b4bfa39b9f56b4b4cf6b705\" href=\"/HJNVR?tab=overview&amp;from=2019-12-01&amp;to=2019-12-31\" id=\"year-link-2019\">2019</a>,\n",
       " <a aria-label=\"Contribution activity in 2018\" class=\"js-year-link filter-item px-3 mb-2 py-2\" data-hydro-click='{\"event_type\":\"user_profile.click\",\"payload\":{\"profile_user_id\":34841349,\"target\":\"CONTRIBUTION_YEAR_LINK\",\"user_id\":null,\"originating_url\":\"https://github.com/HJNVR\"}}' data-hydro-click-hmac=\"a2d50867e49910e09d168d12baf9818f64e2fffd1b4bfa39b9f56b4b4cf6b705\" href=\"/HJNVR?tab=overview&amp;from=2018-12-01&amp;to=2018-12-31\" id=\"year-link-2018\">2018</a>,\n",
       " <a aria-label=\"Contribution activity in 2017\" class=\"js-year-link filter-item px-3 mb-2 py-2\" data-hydro-click='{\"event_type\":\"user_profile.click\",\"payload\":{\"profile_user_id\":34841349,\"target\":\"CONTRIBUTION_YEAR_LINK\",\"user_id\":null,\"originating_url\":\"https://github.com/HJNVR\"}}' data-hydro-click-hmac=\"a2d50867e49910e09d168d12baf9818f64e2fffd1b4bfa39b9f56b4b4cf6b705\" href=\"/HJNVR?tab=overview&amp;from=2017-12-01&amp;to=2017-12-31\" id=\"year-link-2017\">2017</a>,\n",
       " <a data-hovercard-type=\"repository\" data-hovercard-url=\"/HJNVR/SAS-Learning-Notes/hovercard\" data-hydro-click='{\"event_type\":\"user_profile.click\",\"payload\":{\"profile_user_id\":34841349,\"target\":\"TIMELINE_REPO_LINK\",\"user_id\":null,\"originating_url\":\"https://github.com/HJNVR\"}}' data-hydro-click-hmac=\"8431ccc09cc47cc6288e000c165687f24811a7303b3e325572588d7aff03a5ea\" href=\"/HJNVR/SAS-Learning-Notes\">HJNVR/SAS-Learning-Notes</a>,\n",
       " <a class=\"f6 Link--muted ml-lg-1 mt-1 mt-lg-0 d-block d-lg-inline\" data-hydro-click='{\"event_type\":\"user_profile.click\",\"payload\":{\"profile_user_id\":34841349,\"target\":\"TIMELINE_COMMIT_RANGE\",\"user_id\":null,\"originating_url\":\"https://github.com/HJNVR\"}}' data-hydro-click-hmac=\"c7d80943ab3c097b56f16f16496753c2efc229100c92a30bf83989062e8fa706\" href=\"/HJNVR/SAS-Learning-Notes/commits?author=HJNVR&amp;since=2021-01-01&amp;until=2021-02-01\">\n",
       "         8 commits\n",
       " </a>,\n",
       " <a class=\"mr-2\" data-hovercard-type=\"repository\" data-hovercard-url=\"/HJNVR/SAS-Learning-Notes/hovercard\" data-hydro-click='{\"event_type\":\"user_profile.click\",\"payload\":{\"profile_user_id\":34841349,\"target\":\"TIMELINE_REPO_LINK\",\"user_id\":null,\"originating_url\":\"https://github.com/HJNVR\"}}' data-hydro-click-hmac=\"8431ccc09cc47cc6288e000c165687f24811a7303b3e325572588d7aff03a5ea\" href=\"/HJNVR/SAS-Learning-Notes\">HJNVR/SAS-Learning-Notes</a>,\n",
       " <a href=\"https://docs.github.com/categories/setting-up-and-managing-your-github-profile\">GitHub profile guide</a>,\n",
       " <a data-ga-click=\"Footer, go to terms, text:terms\" href=\"https://github.com/site/terms\">Terms</a>,\n",
       " <a data-ga-click=\"Footer, go to privacy, text:privacy\" href=\"https://github.com/site/privacy\">Privacy</a>,\n",
       " <a data-ga-click=\"Footer, go to security, text:security\" href=\"https://github.com/security\">Security</a>,\n",
       " <a data-ga-click=\"Footer, go to status, text:status\" href=\"https://www.githubstatus.com/\">Status</a>,\n",
       " <a data-ga-click=\"Footer, go to help, text:Docs\" href=\"https://docs.github.com\">Docs</a>,\n",
       " <a aria-label=\"Homepage\" class=\"footer-octicon d-none d-lg-block mx-lg-4\" href=\"https://github.com\" title=\"GitHub\">\n",
       " <svg aria-hidden=\"true\" class=\"octicon octicon-mark-github\" height=\"24\" version=\"1.1\" viewbox=\"0 0 16 16\" width=\"24\"><path d=\"M8 0C3.58 0 0 3.58 0 8c0 3.54 2.29 6.53 5.47 7.59.4.07.55-.17.55-.38 0-.19-.01-.82-.01-1.49-2.01.37-2.53-.49-2.69-.94-.09-.23-.48-.94-.82-1.13-.28-.15-.68-.52-.01-.53.63-.01 1.08.58 1.23.82.72 1.21 1.87.87 2.33.66.07-.52.28-.87.51-1.07-1.78-.2-3.64-.89-3.64-3.95 0-.87.31-1.59.82-2.15-.08-.2-.36-1.02.08-2.12 0 0 .67-.21 2.2.82.64-.18 1.32-.27 2-.27.68 0 1.36.09 2 .27 1.53-1.04 2.2-.82 2.2-.82.44 1.1.16 1.92.08 2.12.51.56.82 1.27.82 2.15 0 3.07-1.87 3.75-3.65 3.95.29.25.54.73.54 1.48 0 1.07-.01 1.93-.01 2.2 0 .21.15.46.55.38A8.013 8.013 0 0016 8c0-4.42-3.58-8-8-8z\" fill-rule=\"evenodd\"></path></svg>\n",
       " </a>,\n",
       " <a data-ga-click=\"Footer, go to contact, text:contact\" href=\"https://support.github.com\">Contact GitHub</a>,\n",
       " <a data-ga-click=\"Footer, go to Pricing, text:Pricing\" href=\"https://github.com/pricing\">Pricing</a>,\n",
       " <a data-ga-click=\"Footer, go to api, text:api\" href=\"https://docs.github.com\">API</a>,\n",
       " <a data-ga-click=\"Footer, go to training, text:training\" href=\"https://services.github.com\">Training</a>,\n",
       " <a data-ga-click=\"Footer, go to blog, text:blog\" href=\"https://github.blog\">Blog</a>,\n",
       " <a data-ga-click=\"Footer, go to about, text:about\" href=\"https://github.com/about\">About</a>,\n",
       " <a href=\"\">Reload</a>,\n",
       " <a href=\"\">Reload</a>]"
      ]
     },
     "execution_count": 6,
     "metadata": {},
     "output_type": "execute_result"
    }
   ],
   "source": [
    "items_tag_a = soup.find_all('a')\n",
    "items_tag_a"
   ]
  },
  {
   "cell_type": "code",
   "execution_count": 7,
   "metadata": {},
   "outputs": [
    {
     "name": "stdout",
     "output_type": "stream",
     "text": [
      "['Skip to content']\n",
      "['\\n', <svg aria-hidden=\"true\" class=\"octicon octicon-mark-github color-text-white\" height=\"32\" version=\"1.1\" viewbox=\"0 0 16 16\" width=\"32\"><path d=\"M8 0C3.58 0 0 3.58 0 8c0 3.54 2.29 6.53 5.47 7.59.4.07.55-.17.55-.38 0-.19-.01-.82-.01-1.49-2.01.37-2.53-.49-2.69-.94-.09-.23-.48-.94-.82-1.13-.28-.15-.68-.52-.01-.53.63-.01 1.08.58 1.23.82.72 1.21 1.87.87 2.33.66.07-.52.28-.87.51-1.07-1.78-.2-3.64-.89-3.64-3.95 0-.87.31-1.59.82-2.15-.08-.2-.36-1.02.08-2.12 0 0 .67-.21 2.2.82.64-.18 1.32-.27 2-.27.68 0 1.36.09 2 .27 1.53-1.04 2.2-.82 2.2-.82.44 1.1.16 1.92.08 2.12.51.56.82 1.27.82 2.15 0 3.07-1.87 3.75-3.65 3.95.29.25.54.73.54 1.48 0 1.07-.01 1.93-.01 2.2 0 .21.15.46.55.38A8.013 8.013 0 0016 8c0-4.42-3.58-8-8-8z\" fill-rule=\"evenodd\"></path></svg>, '\\n']\n",
      "['\\n                Sign\\xa0up\\n              ']\n",
      "['\\n                Sign\\xa0up\\n              ']\n",
      "['Features ', <span class=\"Bump-link-symbol float-right text-normal color-text-tertiary pr-3\">→</span>]\n",
      "['Mobile ', <span class=\"Bump-link-symbol float-right text-normal color-text-tertiary pr-3\">→</span>]\n",
      "['Actions ', <span class=\"Bump-link-symbol float-right text-normal color-text-tertiary pr-3\">→</span>]\n",
      "['Codespaces ', <span class=\"Bump-link-symbol float-right text-normal color-text-tertiary pr-3\">→</span>]\n",
      "['Packages ', <span class=\"Bump-link-symbol float-right text-normal color-text-tertiary pr-3\">→</span>]\n",
      "['Security ', <span class=\"Bump-link-symbol float-right text-normal color-text-tertiary pr-3\">→</span>]\n",
      "['Code review ', <span class=\"Bump-link-symbol float-right text-normal color-text-tertiary pr-3\">→</span>]\n",
      "['Project management ', <span class=\"Bump-link-symbol float-right text-normal color-text-tertiary pr-3\">→</span>]\n",
      "['Integrations ', <span class=\"Bump-link-symbol float-right text-normal color-text-tertiary pr-3\">→</span>]\n",
      "['GitHub Sponsors ', <span class=\"Bump-link-symbol float-right text-normal color-text-tertiary pr-3\">→</span>]\n",
      "['Customer stories', <span class=\"Bump-link-symbol float-right text-normal color-text-tertiary pr-3\">→</span>]\n",
      "['Team']\n",
      "['Enterprise']\n",
      "['Explore GitHub ', <span class=\"Bump-link-symbol float-right text-normal color-text-tertiary pr-3\">→</span>]\n",
      "['Topics ', <span class=\"Bump-link-symbol float-right text-normal color-text-tertiary pr-3\">→</span>]\n",
      "['Collections ', <span class=\"Bump-link-symbol float-right text-normal color-text-tertiary pr-3\">→</span>]\n",
      "['Trending ', <span class=\"Bump-link-symbol float-right text-normal color-text-tertiary pr-3\">→</span>]\n",
      "['Learning Lab ', <span class=\"Bump-link-symbol float-right text-normal color-text-tertiary pr-3\">→</span>]\n",
      "['Open source guides ', <span class=\"Bump-link-symbol float-right text-normal color-text-tertiary pr-3\">→</span>]\n",
      "['The ReadME Project ', <span class=\"Bump-link-symbol float-right text-normal color-text-tertiary pr-3\">→</span>]\n",
      "['Events ', <span class=\"Bump-link-symbol float-right text-normal color-text-tertiary pr-3\">→</span>]\n",
      "['Community forum ', <span class=\"Bump-link-symbol float-right text-normal color-text-tertiary pr-3\">→</span>]\n",
      "['GitHub Education ', <span class=\"Bump-link-symbol float-right text-normal color-text-tertiary pr-3\">→</span>]\n",
      "['GitHub Stars program ', <span class=\"Bump-link-symbol float-right text-normal color-text-tertiary pr-3\">→</span>]\n",
      "['Marketplace']\n",
      "['Plans ', <span class=\"Bump-link-symbol float-right text-normal color-text-tertiary pr-3\">→</span>]\n",
      "['Compare plans ', <span class=\"Bump-link-symbol float-right text-normal color-text-tertiary pr-3\">→</span>]\n",
      "['Contact Sales ', <span class=\"Bump-link-symbol float-right text-normal color-text-tertiary pr-3\">→</span>]\n",
      "['Nonprofit ', <span class=\"Bump-link-symbol float-right text-normal color-text-tertiary pr-3\">→</span>]\n",
      "['Education ', <span class=\"Bump-link-symbol float-right text-normal color-text-tertiary pr-3\">→</span>]\n",
      "['\\n', <div class=\"jump-to-octicon js-jump-to-octicon flex-shrink-0 mr-2 text-center d-none\">\n",
      "<svg aria-label=\"Repository\" class=\"octicon octicon-repo flex-shrink-0 js-jump-to-octicon-repo d-none\" height=\"16\" role=\"img\" title=\"Repository\" version=\"1.1\" viewbox=\"0 0 16 16\" width=\"16\"><path d=\"M2 2.5A2.5 2.5 0 014.5 0h8.75a.75.75 0 01.75.75v12.5a.75.75 0 01-.75.75h-2.5a.75.75 0 110-1.5h1.75v-2h-8a1 1 0 00-.714 1.7.75.75 0 01-1.072 1.05A2.495 2.495 0 012 11.5v-9zm10.5-1V9h-8c-.356 0-.694.074-1 .208V2.5a1 1 0 011-1h8zM5 12.25v3.25a.25.25 0 00.4.2l1.45-1.087a.25.25 0 01.3 0L8.6 15.7a.25.25 0 00.4-.2v-3.25a.25.25 0 00-.25-.25h-3.5a.25.25 0 00-.25.25z\" fill-rule=\"evenodd\"></path></svg>\n",
      "<svg aria-label=\"Project\" class=\"octicon octicon-project flex-shrink-0 js-jump-to-octicon-project d-none\" height=\"16\" role=\"img\" title=\"Project\" version=\"1.1\" viewbox=\"0 0 16 16\" width=\"16\"><path d=\"M1.75 0A1.75 1.75 0 000 1.75v12.5C0 15.216.784 16 1.75 16h12.5A1.75 1.75 0 0016 14.25V1.75A1.75 1.75 0 0014.25 0H1.75zM1.5 1.75a.25.25 0 01.25-.25h12.5a.25.25 0 01.25.25v12.5a.25.25 0 01-.25.25H1.75a.25.25 0 01-.25-.25V1.75zM11.75 3a.75.75 0 00-.75.75v7.5a.75.75 0 001.5 0v-7.5a.75.75 0 00-.75-.75zm-8.25.75a.75.75 0 011.5 0v5.5a.75.75 0 01-1.5 0v-5.5zM8 3a.75.75 0 00-.75.75v3.5a.75.75 0 001.5 0v-3.5A.75.75 0 008 3z\" fill-rule=\"evenodd\"></path></svg>\n",
      "<svg aria-label=\"Search\" class=\"octicon octicon-search flex-shrink-0 js-jump-to-octicon-search d-none\" height=\"16\" role=\"img\" title=\"Search\" version=\"1.1\" viewbox=\"0 0 16 16\" width=\"16\"><path d=\"M11.5 7a4.499 4.499 0 11-8.998 0A4.499 4.499 0 0111.5 7zm-.82 4.74a6 6 0 111.06-1.06l3.04 3.04a.75.75 0 11-1.06 1.06l-3.04-3.04z\" fill-rule=\"evenodd\"></path></svg>\n",
      "</div>, '\\n', <img alt=\"\" aria-label=\"Team\" class=\"avatar mr-2 flex-shrink-0 js-jump-to-suggestion-avatar d-none\" height=\"28\" src=\"\" width=\"28\"/>, '\\n', <div class=\"jump-to-suggestion-name js-jump-to-suggestion-name flex-auto overflow-hidden text-left no-wrap css-truncate css-truncate-target\">\n",
      "</div>, '\\n', <div class=\"border rounded-1 flex-shrink-0 color-bg-tertiary px-1 color-text-tertiary ml-1 f6 d-none js-jump-to-badge-search\">\n",
      "<span aria-label=\"in this user\" class=\"js-jump-to-badge-search-text-default d-none\">\n",
      "        In this user\n",
      "      </span>\n",
      "<span aria-label=\"in all of GitHub\" class=\"js-jump-to-badge-search-text-global d-none\">\n",
      "        All GitHub\n",
      "      </span>\n",
      "<span aria-hidden=\"true\" class=\"d-inline-block ml-1 v-align-middle\">↵</span>\n",
      "</div>, '\\n', <div aria-hidden=\"true\" class=\"border rounded-1 flex-shrink-0 color-bg-tertiary px-1 color-text-tertiary ml-1 f6 d-none d-on-nav-focus js-jump-to-badge-jump\">\n",
      "      Jump to\n",
      "      <span class=\"d-inline-block ml-1 v-align-middle\">↵</span>\n",
      "</div>, '\\n']\n",
      "['\\n', <div class=\"jump-to-octicon js-jump-to-octicon flex-shrink-0 mr-2 text-center d-none\">\n",
      "<svg aria-label=\"Repository\" class=\"octicon octicon-repo flex-shrink-0 js-jump-to-octicon-repo d-none\" height=\"16\" role=\"img\" title=\"Repository\" version=\"1.1\" viewbox=\"0 0 16 16\" width=\"16\"><path d=\"M2 2.5A2.5 2.5 0 014.5 0h8.75a.75.75 0 01.75.75v12.5a.75.75 0 01-.75.75h-2.5a.75.75 0 110-1.5h1.75v-2h-8a1 1 0 00-.714 1.7.75.75 0 01-1.072 1.05A2.495 2.495 0 012 11.5v-9zm10.5-1V9h-8c-.356 0-.694.074-1 .208V2.5a1 1 0 011-1h8zM5 12.25v3.25a.25.25 0 00.4.2l1.45-1.087a.25.25 0 01.3 0L8.6 15.7a.25.25 0 00.4-.2v-3.25a.25.25 0 00-.25-.25h-3.5a.25.25 0 00-.25.25z\" fill-rule=\"evenodd\"></path></svg>\n",
      "<svg aria-label=\"Project\" class=\"octicon octicon-project flex-shrink-0 js-jump-to-octicon-project d-none\" height=\"16\" role=\"img\" title=\"Project\" version=\"1.1\" viewbox=\"0 0 16 16\" width=\"16\"><path d=\"M1.75 0A1.75 1.75 0 000 1.75v12.5C0 15.216.784 16 1.75 16h12.5A1.75 1.75 0 0016 14.25V1.75A1.75 1.75 0 0014.25 0H1.75zM1.5 1.75a.25.25 0 01.25-.25h12.5a.25.25 0 01.25.25v12.5a.25.25 0 01-.25.25H1.75a.25.25 0 01-.25-.25V1.75zM11.75 3a.75.75 0 00-.75.75v7.5a.75.75 0 001.5 0v-7.5a.75.75 0 00-.75-.75zm-8.25.75a.75.75 0 011.5 0v5.5a.75.75 0 01-1.5 0v-5.5zM8 3a.75.75 0 00-.75.75v3.5a.75.75 0 001.5 0v-3.5A.75.75 0 008 3z\" fill-rule=\"evenodd\"></path></svg>\n",
      "<svg aria-label=\"Search\" class=\"octicon octicon-search flex-shrink-0 js-jump-to-octicon-search d-none\" height=\"16\" role=\"img\" title=\"Search\" version=\"1.1\" viewbox=\"0 0 16 16\" width=\"16\"><path d=\"M11.5 7a4.499 4.499 0 11-8.998 0A4.499 4.499 0 0111.5 7zm-.82 4.74a6 6 0 111.06-1.06l3.04 3.04a.75.75 0 11-1.06 1.06l-3.04-3.04z\" fill-rule=\"evenodd\"></path></svg>\n",
      "</div>, '\\n', <img alt=\"\" aria-label=\"Team\" class=\"avatar mr-2 flex-shrink-0 js-jump-to-suggestion-avatar d-none\" height=\"28\" src=\"\" width=\"28\"/>, '\\n', <div class=\"jump-to-suggestion-name js-jump-to-suggestion-name flex-auto overflow-hidden text-left no-wrap css-truncate css-truncate-target\">\n",
      "</div>, '\\n', <div class=\"border rounded-1 flex-shrink-0 color-bg-tertiary px-1 color-text-tertiary ml-1 f6 d-none js-jump-to-badge-search\">\n",
      "<span aria-label=\"in this user\" class=\"js-jump-to-badge-search-text-default d-none\">\n",
      "        In this user\n",
      "      </span>\n",
      "<span aria-label=\"in all of GitHub\" class=\"js-jump-to-badge-search-text-global d-none\">\n",
      "        All GitHub\n",
      "      </span>\n",
      "<span aria-hidden=\"true\" class=\"d-inline-block ml-1 v-align-middle\">↵</span>\n",
      "</div>, '\\n', <div aria-hidden=\"true\" class=\"border rounded-1 flex-shrink-0 color-bg-tertiary px-1 color-text-tertiary ml-1 f6 d-none d-on-nav-focus js-jump-to-badge-jump\">\n",
      "      Jump to\n",
      "      <span class=\"d-inline-block ml-1 v-align-middle\">↵</span>\n",
      "</div>, '\\n']\n",
      "['\\n', <div class=\"jump-to-octicon js-jump-to-octicon flex-shrink-0 mr-2 text-center d-none\">\n",
      "<svg aria-label=\"Repository\" class=\"octicon octicon-repo flex-shrink-0 js-jump-to-octicon-repo d-none\" height=\"16\" role=\"img\" title=\"Repository\" version=\"1.1\" viewbox=\"0 0 16 16\" width=\"16\"><path d=\"M2 2.5A2.5 2.5 0 014.5 0h8.75a.75.75 0 01.75.75v12.5a.75.75 0 01-.75.75h-2.5a.75.75 0 110-1.5h1.75v-2h-8a1 1 0 00-.714 1.7.75.75 0 01-1.072 1.05A2.495 2.495 0 012 11.5v-9zm10.5-1V9h-8c-.356 0-.694.074-1 .208V2.5a1 1 0 011-1h8zM5 12.25v3.25a.25.25 0 00.4.2l1.45-1.087a.25.25 0 01.3 0L8.6 15.7a.25.25 0 00.4-.2v-3.25a.25.25 0 00-.25-.25h-3.5a.25.25 0 00-.25.25z\" fill-rule=\"evenodd\"></path></svg>\n",
      "<svg aria-label=\"Project\" class=\"octicon octicon-project flex-shrink-0 js-jump-to-octicon-project d-none\" height=\"16\" role=\"img\" title=\"Project\" version=\"1.1\" viewbox=\"0 0 16 16\" width=\"16\"><path d=\"M1.75 0A1.75 1.75 0 000 1.75v12.5C0 15.216.784 16 1.75 16h12.5A1.75 1.75 0 0016 14.25V1.75A1.75 1.75 0 0014.25 0H1.75zM1.5 1.75a.25.25 0 01.25-.25h12.5a.25.25 0 01.25.25v12.5a.25.25 0 01-.25.25H1.75a.25.25 0 01-.25-.25V1.75zM11.75 3a.75.75 0 00-.75.75v7.5a.75.75 0 001.5 0v-7.5a.75.75 0 00-.75-.75zm-8.25.75a.75.75 0 011.5 0v5.5a.75.75 0 01-1.5 0v-5.5zM8 3a.75.75 0 00-.75.75v3.5a.75.75 0 001.5 0v-3.5A.75.75 0 008 3z\" fill-rule=\"evenodd\"></path></svg>\n",
      "<svg aria-label=\"Search\" class=\"octicon octicon-search flex-shrink-0 js-jump-to-octicon-search d-none\" height=\"16\" role=\"img\" title=\"Search\" version=\"1.1\" viewbox=\"0 0 16 16\" width=\"16\"><path d=\"M11.5 7a4.499 4.499 0 11-8.998 0A4.499 4.499 0 0111.5 7zm-.82 4.74a6 6 0 111.06-1.06l3.04 3.04a.75.75 0 11-1.06 1.06l-3.04-3.04z\" fill-rule=\"evenodd\"></path></svg>\n",
      "</div>, '\\n', <img alt=\"\" aria-label=\"Team\" class=\"avatar mr-2 flex-shrink-0 js-jump-to-suggestion-avatar d-none\" height=\"28\" src=\"\" width=\"28\"/>, '\\n', <div class=\"jump-to-suggestion-name js-jump-to-suggestion-name flex-auto overflow-hidden text-left no-wrap css-truncate css-truncate-target\">\n",
      "</div>, '\\n', <div class=\"border rounded-1 flex-shrink-0 color-bg-tertiary px-1 color-text-tertiary ml-1 f6 d-none js-jump-to-badge-search\">\n",
      "<span aria-label=\"in all of GitHub\" class=\"js-jump-to-badge-search-text-default d-none\">\n",
      "        Search\n",
      "      </span>\n",
      "<span aria-label=\"in all of GitHub\" class=\"js-jump-to-badge-search-text-global d-none\">\n",
      "        All GitHub\n",
      "      </span>\n",
      "<span aria-hidden=\"true\" class=\"d-inline-block ml-1 v-align-middle\">↵</span>\n",
      "</div>, '\\n', <div aria-hidden=\"true\" class=\"border rounded-1 flex-shrink-0 color-bg-tertiary px-1 color-text-tertiary ml-1 f6 d-none d-on-nav-focus js-jump-to-badge-jump\">\n",
      "      Jump to\n",
      "      <span class=\"d-inline-block ml-1 v-align-middle\">↵</span>\n",
      "</div>, '\\n']\n",
      "['\\n', <div class=\"jump-to-octicon js-jump-to-octicon flex-shrink-0 mr-2 text-center d-none\">\n",
      "<svg aria-label=\"Repository\" class=\"octicon octicon-repo flex-shrink-0 js-jump-to-octicon-repo d-none\" height=\"16\" role=\"img\" title=\"Repository\" version=\"1.1\" viewbox=\"0 0 16 16\" width=\"16\"><path d=\"M2 2.5A2.5 2.5 0 014.5 0h8.75a.75.75 0 01.75.75v12.5a.75.75 0 01-.75.75h-2.5a.75.75 0 110-1.5h1.75v-2h-8a1 1 0 00-.714 1.7.75.75 0 01-1.072 1.05A2.495 2.495 0 012 11.5v-9zm10.5-1V9h-8c-.356 0-.694.074-1 .208V2.5a1 1 0 011-1h8zM5 12.25v3.25a.25.25 0 00.4.2l1.45-1.087a.25.25 0 01.3 0L8.6 15.7a.25.25 0 00.4-.2v-3.25a.25.25 0 00-.25-.25h-3.5a.25.25 0 00-.25.25z\" fill-rule=\"evenodd\"></path></svg>\n",
      "<svg aria-label=\"Project\" class=\"octicon octicon-project flex-shrink-0 js-jump-to-octicon-project d-none\" height=\"16\" role=\"img\" title=\"Project\" version=\"1.1\" viewbox=\"0 0 16 16\" width=\"16\"><path d=\"M1.75 0A1.75 1.75 0 000 1.75v12.5C0 15.216.784 16 1.75 16h12.5A1.75 1.75 0 0016 14.25V1.75A1.75 1.75 0 0014.25 0H1.75zM1.5 1.75a.25.25 0 01.25-.25h12.5a.25.25 0 01.25.25v12.5a.25.25 0 01-.25.25H1.75a.25.25 0 01-.25-.25V1.75zM11.75 3a.75.75 0 00-.75.75v7.5a.75.75 0 001.5 0v-7.5a.75.75 0 00-.75-.75zm-8.25.75a.75.75 0 011.5 0v5.5a.75.75 0 01-1.5 0v-5.5zM8 3a.75.75 0 00-.75.75v3.5a.75.75 0 001.5 0v-3.5A.75.75 0 008 3z\" fill-rule=\"evenodd\"></path></svg>\n",
      "<svg aria-label=\"Search\" class=\"octicon octicon-search flex-shrink-0 js-jump-to-octicon-search d-none\" height=\"16\" role=\"img\" title=\"Search\" version=\"1.1\" viewbox=\"0 0 16 16\" width=\"16\"><path d=\"M11.5 7a4.499 4.499 0 11-8.998 0A4.499 4.499 0 0111.5 7zm-.82 4.74a6 6 0 111.06-1.06l3.04 3.04a.75.75 0 11-1.06 1.06l-3.04-3.04z\" fill-rule=\"evenodd\"></path></svg>\n",
      "</div>, '\\n', <img alt=\"\" aria-label=\"Team\" class=\"avatar mr-2 flex-shrink-0 js-jump-to-suggestion-avatar d-none\" height=\"28\" src=\"\" width=\"28\"/>, '\\n', <div class=\"jump-to-suggestion-name js-jump-to-suggestion-name flex-auto overflow-hidden text-left no-wrap css-truncate css-truncate-target\">\n",
      "</div>, '\\n', <div class=\"border rounded-1 flex-shrink-0 color-bg-tertiary px-1 color-text-tertiary ml-1 f6 d-none js-jump-to-badge-search\">\n",
      "<span aria-label=\"in this user\" class=\"js-jump-to-badge-search-text-default d-none\">\n",
      "        In this user\n",
      "      </span>\n",
      "<span aria-label=\"in all of GitHub\" class=\"js-jump-to-badge-search-text-global d-none\">\n",
      "        All GitHub\n",
      "      </span>\n",
      "<span aria-hidden=\"true\" class=\"d-inline-block ml-1 v-align-middle\">↵</span>\n",
      "</div>, '\\n', <div aria-hidden=\"true\" class=\"border rounded-1 flex-shrink-0 color-bg-tertiary px-1 color-text-tertiary ml-1 f6 d-none d-on-nav-focus js-jump-to-badge-jump\">\n",
      "      Jump to\n",
      "      <span class=\"d-inline-block ml-1 v-align-middle\">↵</span>\n",
      "</div>, '\\n']\n",
      "['\\n          Sign in\\n        ']\n",
      "['\\n              Sign up\\n            ']\n",
      "['\\n              Sign up\\n            ']\n",
      "['Follow']\n",
      "['\\n', <svg aria-hidden=\"true\" class=\"octicon octicon-book UnderlineNav-octicon hide-sm\" height=\"16\" version=\"1.1\" viewbox=\"0 0 16 16\" width=\"16\"><path d=\"M0 1.75A.75.75 0 01.75 1h4.253c1.227 0 2.317.59 3 1.501A3.744 3.744 0 0111.006 1h4.245a.75.75 0 01.75.75v10.5a.75.75 0 01-.75.75h-4.507a2.25 2.25 0 00-1.591.659l-.622.621a.75.75 0 01-1.06 0l-.622-.621A2.25 2.25 0 005.258 13H.75a.75.75 0 01-.75-.75V1.75zm8.755 3a2.25 2.25 0 012.25-2.25H14.5v9h-3.757c-.71 0-1.4.201-1.992.572l.004-7.322zm-1.504 7.324l.004-5.073-.002-2.253A2.25 2.25 0 005.003 2.5H1.5v9h3.757a3.75 3.75 0 011.994.574z\" fill-rule=\"evenodd\"></path></svg>, '\\n    Overview\\n']\n",
      "['\\n', <svg aria-hidden=\"true\" class=\"octicon octicon-repo UnderlineNav-octicon hide-sm\" height=\"16\" version=\"1.1\" viewbox=\"0 0 16 16\" width=\"16\"><path d=\"M2 2.5A2.5 2.5 0 014.5 0h8.75a.75.75 0 01.75.75v12.5a.75.75 0 01-.75.75h-2.5a.75.75 0 110-1.5h1.75v-2h-8a1 1 0 00-.714 1.7.75.75 0 01-1.072 1.05A2.495 2.495 0 012 11.5v-9zm10.5-1V9h-8c-.356 0-.694.074-1 .208V2.5a1 1 0 011-1h8zM5 12.25v3.25a.25.25 0 00.4.2l1.45-1.087a.25.25 0 01.3 0L8.6 15.7a.25.25 0 00.4-.2v-3.25a.25.25 0 00-.25-.25h-3.5a.25.25 0 00-.25.25z\" fill-rule=\"evenodd\"></path></svg>, '\\n    Repositories\\n    ', <span class=\"Counter\" title=\"17\">17</span>, '\\n']\n",
      "['\\n', <svg aria-hidden=\"true\" class=\"octicon octicon-project UnderlineNav-octicon hide-sm\" height=\"16\" version=\"1.1\" viewbox=\"0 0 16 16\" width=\"16\"><path d=\"M1.75 0A1.75 1.75 0 000 1.75v12.5C0 15.216.784 16 1.75 16h12.5A1.75 1.75 0 0016 14.25V1.75A1.75 1.75 0 0014.25 0H1.75zM1.5 1.75a.25.25 0 01.25-.25h12.5a.25.25 0 01.25.25v12.5a.25.25 0 01-.25.25H1.75a.25.25 0 01-.25-.25V1.75zM11.75 3a.75.75 0 00-.75.75v7.5a.75.75 0 001.5 0v-7.5a.75.75 0 00-.75-.75zm-8.25.75a.75.75 0 011.5 0v5.5a.75.75 0 01-1.5 0v-5.5zM8 3a.75.75 0 00-.75.75v3.5a.75.75 0 001.5 0v-3.5A.75.75 0 008 3z\" fill-rule=\"evenodd\"></path></svg>, '\\n    Projects\\n    ', <span class=\"Counter\" hidden=\"hidden\" title=\"0\">0</span>, '\\n']\n",
      "['\\n', <svg aria-hidden=\"true\" class=\"octicon octicon-package UnderlineNav-octicon hide-sm\" height=\"16\" version=\"1.1\" viewbox=\"0 0 16 16\" width=\"16\"><path d=\"M8.878.392a1.75 1.75 0 00-1.756 0l-5.25 3.045A1.75 1.75 0 001 4.951v6.098c0 .624.332 1.2.872 1.514l5.25 3.045a1.75 1.75 0 001.756 0l5.25-3.045c.54-.313.872-.89.872-1.514V4.951c0-.624-.332-1.2-.872-1.514L8.878.392zM7.875 1.69a.25.25 0 01.25 0l4.63 2.685L8 7.133 3.245 4.375l4.63-2.685zM2.5 5.677v5.372c0 .09.047.171.125.216l4.625 2.683V8.432L2.5 5.677zm6.25 8.271l4.625-2.683a.25.25 0 00.125-.216V5.677L8.75 8.432v5.516z\" fill-rule=\"evenodd\"></path></svg>, '\\n      Packages\\n']\n",
      "['Follow']\n",
      "[<img alt=\"Avatar\" class=\"avatar avatar-user width-full border color-bg-primary\" height=\"260\" src=\"https://avatars.githubusercontent.com/u/34841349?s=460&amp;u=40701538a585b1a42d9ab5326757b7e400413626&amp;v=4\" style=\"height:auto;\" width=\"260\"/>]\n",
      "['Follow']\n",
      "['blocking users']\n",
      "['reporting abuse']\n",
      "['Report abuse']\n",
      "['\\n', <svg aria-hidden=\"true\" class=\"octicon octicon-people text-gray-light\" height=\"16\" version=\"1.1\" viewbox=\"0 0 16 16\" width=\"16\"><path d=\"M5.5 3.5a2 2 0 100 4 2 2 0 000-4zM2 5.5a3.5 3.5 0 115.898 2.549 5.507 5.507 0 013.034 4.084.75.75 0 11-1.482.235 4.001 4.001 0 00-7.9 0 .75.75 0 01-1.482-.236A5.507 5.507 0 013.102 8.05 3.49 3.49 0 012 5.5zM11 4a.75.75 0 100 1.5 1.5 1.5 0 01.666 2.844.75.75 0 00-.416.672v.352a.75.75 0 00.574.73c1.2.289 2.162 1.2 2.522 2.372a.75.75 0 101.434-.44 5.01 5.01 0 00-2.56-3.012A3 3 0 0011 4z\" fill-rule=\"evenodd\"></path></svg>, '\\n', <span class=\"text-bold color-text-primary\">1</span>, '\\n          follower\\n']\n",
      "['\\n', <span class=\"text-bold color-text-primary\">1</span>, '\\n          following\\n']\n",
      "['\\n', <svg aria-hidden=\"true\" class=\"octicon octicon-star text-gray-light\" height=\"16\" version=\"1.1\" viewbox=\"0 0 16 16\" width=\"16\"><path d=\"M8 .25a.75.75 0 01.673.418l1.882 3.815 4.21.612a.75.75 0 01.416 1.279l-3.046 2.97.719 4.192a.75.75 0 01-1.088.791L8 12.347l-3.766 1.98a.75.75 0 01-1.088-.79l.72-4.194L.818 6.374a.75.75 0 01.416-1.28l4.21-.611L7.327.668A.75.75 0 018 .25zm0 2.445L6.615 5.5a.75.75 0 01-.564.41l-3.097.45 2.24 2.184a.75.75 0 01.216.664l-.528 3.084 2.769-1.456a.75.75 0 01.698 0l2.77 1.456-.53-3.084a.75.75 0 01.216-.664l2.24-2.183-3.096-.45a.75.75 0 01-.564-.41L8 2.694v.001z\" fill-rule=\"evenodd\"></path></svg>, '\\n', <span class=\"text-bold color-text-primary\">0</span>, '\\n']\n",
      "['\\n', <svg aria-hidden=\"true\" class=\"octicon octicon-book UnderlineNav-octicon hide-sm\" height=\"16\" version=\"1.1\" viewbox=\"0 0 16 16\" width=\"16\"><path d=\"M0 1.75A.75.75 0 01.75 1h4.253c1.227 0 2.317.59 3 1.501A3.744 3.744 0 0111.006 1h4.245a.75.75 0 01.75.75v10.5a.75.75 0 01-.75.75h-4.507a2.25 2.25 0 00-1.591.659l-.622.621a.75.75 0 01-1.06 0l-.622-.621A2.25 2.25 0 005.258 13H.75a.75.75 0 01-.75-.75V1.75zm8.755 3a2.25 2.25 0 012.25-2.25H14.5v9h-3.757c-.71 0-1.4.201-1.992.572l.004-7.322zm-1.504 7.324l.004-5.073-.002-2.253A2.25 2.25 0 005.003 2.5H1.5v9h3.757a3.75 3.75 0 011.994.574z\" fill-rule=\"evenodd\"></path></svg>, '\\n    Overview\\n']\n",
      "['\\n', <svg aria-hidden=\"true\" class=\"octicon octicon-repo UnderlineNav-octicon hide-sm\" height=\"16\" version=\"1.1\" viewbox=\"0 0 16 16\" width=\"16\"><path d=\"M2 2.5A2.5 2.5 0 014.5 0h8.75a.75.75 0 01.75.75v12.5a.75.75 0 01-.75.75h-2.5a.75.75 0 110-1.5h1.75v-2h-8a1 1 0 00-.714 1.7.75.75 0 01-1.072 1.05A2.495 2.495 0 012 11.5v-9zm10.5-1V9h-8c-.356 0-.694.074-1 .208V2.5a1 1 0 011-1h8zM5 12.25v3.25a.25.25 0 00.4.2l1.45-1.087a.25.25 0 01.3 0L8.6 15.7a.25.25 0 00.4-.2v-3.25a.25.25 0 00-.25-.25h-3.5a.25.25 0 00-.25.25z\" fill-rule=\"evenodd\"></path></svg>, '\\n    Repositories\\n    ', <span class=\"Counter\" title=\"17\">17</span>, '\\n']\n",
      "['\\n', <svg aria-hidden=\"true\" class=\"octicon octicon-project UnderlineNav-octicon hide-sm\" height=\"16\" version=\"1.1\" viewbox=\"0 0 16 16\" width=\"16\"><path d=\"M1.75 0A1.75 1.75 0 000 1.75v12.5C0 15.216.784 16 1.75 16h12.5A1.75 1.75 0 0016 14.25V1.75A1.75 1.75 0 0014.25 0H1.75zM1.5 1.75a.25.25 0 01.25-.25h12.5a.25.25 0 01.25.25v12.5a.25.25 0 01-.25.25H1.75a.25.25 0 01-.25-.25V1.75zM11.75 3a.75.75 0 00-.75.75v7.5a.75.75 0 001.5 0v-7.5a.75.75 0 00-.75-.75zm-8.25.75a.75.75 0 011.5 0v5.5a.75.75 0 01-1.5 0v-5.5zM8 3a.75.75 0 00-.75.75v3.5a.75.75 0 001.5 0v-3.5A.75.75 0 008 3z\" fill-rule=\"evenodd\"></path></svg>, '\\n    Projects\\n    ', <span class=\"Counter\" hidden=\"hidden\" title=\"0\">0</span>, '\\n']\n",
      "['\\n', <svg aria-hidden=\"true\" class=\"octicon octicon-package UnderlineNav-octicon hide-sm\" height=\"16\" version=\"1.1\" viewbox=\"0 0 16 16\" width=\"16\"><path d=\"M8.878.392a1.75 1.75 0 00-1.756 0l-5.25 3.045A1.75 1.75 0 001 4.951v6.098c0 .624.332 1.2.872 1.514l5.25 3.045a1.75 1.75 0 001.756 0l5.25-3.045c.54-.313.872-.89.872-1.514V4.951c0-.624-.332-1.2-.872-1.514L8.878.392zM7.875 1.69a.25.25 0 01.25 0l4.63 2.685L8 7.133 3.245 4.375l4.63-2.685zM2.5 5.677v5.372c0 .09.047.171.125.216l4.625 2.683V8.432L2.5 5.677zm6.25 8.271l4.625-2.683a.25.25 0 00.125-.216V5.677L8.75 8.432v5.516z\" fill-rule=\"evenodd\"></path></svg>, '\\n      Packages\\n']\n",
      "['\\n', <span class=\"repo\" title=\"WebDriverAgent\">WebDriverAgent</span>, '\\n']\n",
      "['facebookarchive/WebDriverAgent']\n",
      "['\\n', <span class=\"repo\" title=\"game\">game</span>, '\\n']\n",
      "['\\n', <span class=\"repo\" title=\"Git2GitHub\">Git2GitHub</span>, '\\n']\n",
      "['\\n', <span class=\"repo\" title=\"bootstrap\">bootstrap</span>, '\\n']\n",
      "['twbs/bootstrap']\n",
      "['\\n', <span class=\"repo\" title=\"gitignore\">gitignore</span>, '\\n']\n",
      "['github/gitignore']\n",
      "['\\n', <span class=\"repo\" title=\"UTM_CSC209\">UTM_CSC209</span>, '\\n']\n",
      "['\\n              Learn how we count contributions']\n",
      "['2021']\n",
      "['2020']\n",
      "['2019']\n",
      "['2018']\n",
      "['2017']\n",
      "['HJNVR/SAS-Learning-Notes']\n",
      "['\\n        8 commits\\n']\n",
      "['HJNVR/SAS-Learning-Notes']\n",
      "['GitHub profile guide']\n",
      "['Terms']\n",
      "['Privacy']\n",
      "['Security']\n",
      "['Status']\n",
      "['Docs']\n",
      "['\\n', <svg aria-hidden=\"true\" class=\"octicon octicon-mark-github\" height=\"24\" version=\"1.1\" viewbox=\"0 0 16 16\" width=\"24\"><path d=\"M8 0C3.58 0 0 3.58 0 8c0 3.54 2.29 6.53 5.47 7.59.4.07.55-.17.55-.38 0-.19-.01-.82-.01-1.49-2.01.37-2.53-.49-2.69-.94-.09-.23-.48-.94-.82-1.13-.28-.15-.68-.52-.01-.53.63-.01 1.08.58 1.23.82.72 1.21 1.87.87 2.33.66.07-.52.28-.87.51-1.07-1.78-.2-3.64-.89-3.64-3.95 0-.87.31-1.59.82-2.15-.08-.2-.36-1.02.08-2.12 0 0 .67-.21 2.2.82.64-.18 1.32-.27 2-.27.68 0 1.36.09 2 .27 1.53-1.04 2.2-.82 2.2-.82.44 1.1.16 1.92.08 2.12.51.56.82 1.27.82 2.15 0 3.07-1.87 3.75-3.65 3.95.29.25.54.73.54 1.48 0 1.07-.01 1.93-.01 2.2 0 .21.15.46.55.38A8.013 8.013 0 0016 8c0-4.42-3.58-8-8-8z\" fill-rule=\"evenodd\"></path></svg>, '\\n']\n",
      "['Contact GitHub']\n",
      "['Pricing']\n",
      "['API']\n",
      "['Training']\n",
      "['Blog']\n",
      "['About']\n",
      "['Reload']\n",
      "['Reload']\n"
     ]
    }
   ],
   "source": [
    "for item in items_tag_a:\n",
    "    print(item.contents)"
   ]
  },
  {
   "cell_type": "markdown",
   "metadata": {},
   "source": [
    "# 4. webscraping with different kinds of files"
   ]
  },
  {
   "cell_type": "code",
   "execution_count": null,
   "metadata": {},
   "outputs": [],
   "source": []
  }
 ],
 "metadata": {
  "kernelspec": {
   "display_name": "Python 3",
   "language": "python",
   "name": "python3"
  },
  "language_info": {
   "codemirror_mode": {
    "name": "ipython",
    "version": 3
   },
   "file_extension": ".py",
   "mimetype": "text/x-python",
   "name": "python",
   "nbconvert_exporter": "python",
   "pygments_lexer": "ipython3",
   "version": "3.7.6"
  }
 },
 "nbformat": 4,
 "nbformat_minor": 4
}
