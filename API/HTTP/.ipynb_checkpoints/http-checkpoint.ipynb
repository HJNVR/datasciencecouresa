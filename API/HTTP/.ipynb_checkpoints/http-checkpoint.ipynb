{
 "cells": [
  {
   "cell_type": "code",
   "execution_count": 3,
   "metadata": {},
   "outputs": [],
   "source": [
    "import requests\n",
    "url='https://www.ibm.com/'\n",
    "r = requests.get(url)"
   ]
  },
  {
   "cell_type": "code",
   "execution_count": 4,
   "metadata": {},
   "outputs": [
    {
     "data": {
      "text/plain": [
       "200"
      ]
     },
     "execution_count": 4,
     "metadata": {},
     "output_type": "execute_result"
    }
   ],
   "source": [
    "r.status_code"
   ]
  },
  {
   "cell_type": "code",
   "execution_count": 12,
   "metadata": {},
   "outputs": [
    {
     "data": {
      "text/plain": [
       "{'User-Agent': 'python-requests/2.22.0', 'Accept-Encoding': 'gzip, deflate', 'Accept': '*/*', 'Connection': 'keep-alive', 'Cookie': '_abck=BA274BF01FF630F6CF8FB920BF1294AE~-1~YAAQnMR7aMYj+Rt4AQAATNZ3MgUNl2d+y9eF2/D5KOyJRx0aGj1opCJMXYhO9bGZvlTJ8C/lT9bfDwucrqOO8Pk/sgnwLHJ+8Hac7zNgIEm2lhRrzRIGJYv6lxrx2Isj/dqvc+qhTHKJpCkUhVGwQcYH3HMNdg2l7OeFOivR0hp/TwghHQRJTdAv9rSTvpS4GXd00G4p2tVPX7ADUt+WcG3ik44J+FBtxn9Kn/z9ohcC1lc2TRQu8l7TpydbWUlSFZW6j+wVfA3dRvozHQIL8VSEhpwwJ43YSSesLDPK7gEK2zRZB0heptXwwxz6oLHG+8bPuZ0wHFigDGIXNHUlCpaq7+nS40gFwtju/LJ3+uwei6nYMDw=~-1~-1~-1; bm_sz=A2889ACDF7F8B275F1BB871B7B3212BC~YAAQnMR7aMUj+Rt4AQAATNZ3MgsERkRUyEJVhpI55HRGeN5QV0oyYS9lqW34K4eFEyTGJLcHF75KLtN1RVG2KNCtVeHDQchLz0XAUcRybmmBuhBMXEMZnsjge9YquT8mqpi0yio26pozvJnczG94+Usdz0qR5sM/RjRPojvpS5XZfNjG7qXh0hwiEXA6'}"
      ]
     },
     "execution_count": 12,
     "metadata": {},
     "output_type": "execute_result"
    }
   ],
   "source": [
    "r.request.headers # headers"
   ]
  },
  {
   "cell_type": "code",
   "execution_count": 13,
   "metadata": {},
   "outputs": [],
   "source": [
    "r.request.body # body , here is None"
   ]
  },
  {
   "cell_type": "code",
   "execution_count": 14,
   "metadata": {},
   "outputs": [
    {
     "data": {
      "text/plain": [
       "{'Server': 'Apache', 'x-drupal-dynamic-cache': 'UNCACHEABLE', 'Link': '<https://www.ibm.com/ca-en>; rel=\"canonical\", <https://www.ibm.com/ca-en>; rel=\"revision\", <https://www.ibm.com/ca-en>; rel=\"revision\", <//1.cms.s81c.com>; rel=preconnect; crossorigin, <//1.cms.s81c.com>; rel=dns-prefetch', 'x-ua-compatible': 'IE=edge', 'Content-Language': 'en-ca', 'x-generator': 'Drupal 8 (https://www.drupal.org)', 'x-dns-prefetch-control': 'on', 'x-drupal-cache': 'MISS', 'Last-Modified': 'Sun, 14 Mar 2021 02:41:37 GMT', 'ETag': '\"1615689697\"', 'Content-Type': 'text/html; charset=UTF-8', 'x-acquia-host': 'www.ibm.com', 'x-acquia-path': '/ca-en', 'x-acquia-site': '', 'x-acquia-purge-tags': '', 'x-varnish': '13422291 18691762', 'x-cache-hits': '4', 'x-age': '18190', 'Accept-Ranges': 'bytes', 'Content-Encoding': 'gzip', 'Cache-Control': 'public, max-age=300', 'Expires': 'Sun, 14 Mar 2021 20:45:18 GMT', 'X-Akamai-Transformed': '9 11190 0 pmb=mTOE,1', 'Date': 'Sun, 14 Mar 2021 20:40:18 GMT', 'Content-Length': '11301', 'Connection': 'keep-alive', 'Vary': 'Accept-Encoding', 'x-content-type-options': 'nosniff', 'X-XSS-Protection': '1; mode=block', 'Content-Security-Policy': 'upgrade-insecure-requests', 'Strict-Transport-Security': 'max-age=31536000', 'x-ibm-trace': 'www-dipatcher: dynamic rule'}"
      ]
     },
     "execution_count": 14,
     "metadata": {},
     "output_type": "execute_result"
    }
   ],
   "source": [
    "header=r.headers\n",
    "header"
   ]
  },
  {
   "cell_type": "code",
   "execution_count": 15,
   "metadata": {},
   "outputs": [
    {
     "data": {
      "text/plain": [
       "'Sun, 14 Mar 2021 20:40:18 GMT'"
      ]
     },
     "execution_count": 15,
     "metadata": {},
     "output_type": "execute_result"
    }
   ],
   "source": [
    "header['date']"
   ]
  },
  {
   "cell_type": "code",
   "execution_count": 16,
   "metadata": {},
   "outputs": [
    {
     "data": {
      "text/plain": [
       "'text/html; charset=UTF-8'"
      ]
     },
     "execution_count": 16,
     "metadata": {},
     "output_type": "execute_result"
    }
   ],
   "source": [
    "header['Content-Type']"
   ]
  },
  {
   "cell_type": "code",
   "execution_count": 17,
   "metadata": {},
   "outputs": [
    {
     "data": {
      "text/plain": [
       "'UTF-8'"
      ]
     },
     "execution_count": 17,
     "metadata": {},
     "output_type": "execute_result"
    }
   ],
   "source": [
    "r.encoding"
   ]
  },
  {
   "cell_type": "code",
   "execution_count": 18,
   "metadata": {
    "scrolled": true
   },
   "outputs": [
    {
     "data": {
      "text/plain": [
       "'<!DOCTYPE html>\\n<html lang=\"en-ca\" dir=\"ltr\">\\n  <head>\\n    <meta charset=\"utf-8\" />\\n<script>digitalD'"
      ]
     },
     "execution_count": 18,
     "metadata": {},
     "output_type": "execute_result"
    }
   ],
   "source": [
    "r.text[0:100]"
   ]
  },
  {
   "cell_type": "markdown",
   "metadata": {},
   "source": [
    "# 1. Use \"Get\" to change url parameters"
   ]
  },
  {
   "cell_type": "code",
   "execution_count": 21,
   "metadata": {},
   "outputs": [],
   "source": [
    "##  change url parameters \n",
    "url_get = 'http://httpbin.org/get'\n",
    "payload={\"name\":\"Jpseph\",\"ID\":\"123\"}\n",
    "r = requests.get(url_get, params=payload)"
   ]
  },
  {
   "cell_type": "code",
   "execution_count": 22,
   "metadata": {},
   "outputs": [
    {
     "data": {
      "text/plain": [
       "'http://httpbin.org/get?name=Jpseph&ID=123'"
      ]
     },
     "execution_count": 22,
     "metadata": {},
     "output_type": "execute_result"
    }
   ],
   "source": [
    "r.url"
   ]
  },
  {
   "cell_type": "code",
   "execution_count": 23,
   "metadata": {},
   "outputs": [],
   "source": [
    "r.request.body"
   ]
  },
  {
   "cell_type": "code",
   "execution_count": 24,
   "metadata": {},
   "outputs": [
    {
     "data": {
      "text/plain": [
       "'{\\n  \"args\": {\\n    \"ID\": \"123\", \\n    \"name\": \"Jpseph\"\\n  }, \\n  \"headers\": {\\n    \"Accept\": \"*/*\", \\n    \"Accept-Encoding\": \"gzip, deflate\", \\n    \"Host\": \"httpbin.org\", \\n    \"User-Agent\": \"python-requests/2.22.0\", \\n    \"X-Amzn-Trace-Id\": \"Root=1-604e7681-4b69d728747dd61a6cd54000\"\\n  }, \\n  \"origin\": \"99.245.67.178\", \\n  \"url\": \"http://httpbin.org/get?name=Jpseph&ID=123\"\\n}\\n'"
      ]
     },
     "execution_count": 24,
     "metadata": {},
     "output_type": "execute_result"
    }
   ],
   "source": [
    "r.text"
   ]
  },
  {
   "cell_type": "code",
   "execution_count": 25,
   "metadata": {},
   "outputs": [
    {
     "data": {
      "text/plain": [
       "'application/json'"
      ]
     },
     "execution_count": 25,
     "metadata": {},
     "output_type": "execute_result"
    }
   ],
   "source": [
    "r.headers['Content-Type']"
   ]
  },
  {
   "cell_type": "code",
   "execution_count": 26,
   "metadata": {},
   "outputs": [
    {
     "data": {
      "text/plain": [
       "{'args': {'ID': '123', 'name': 'Jpseph'},\n",
       " 'headers': {'Accept': '*/*',\n",
       "  'Accept-Encoding': 'gzip, deflate',\n",
       "  'Host': 'httpbin.org',\n",
       "  'User-Agent': 'python-requests/2.22.0',\n",
       "  'X-Amzn-Trace-Id': 'Root=1-604e7681-4b69d728747dd61a6cd54000'},\n",
       " 'origin': '99.245.67.178',\n",
       " 'url': 'http://httpbin.org/get?name=Jpseph&ID=123'}"
      ]
     },
     "execution_count": 26,
     "metadata": {},
     "output_type": "execute_result"
    }
   ],
   "source": [
    "r.json()"
   ]
  },
  {
   "cell_type": "code",
   "execution_count": 27,
   "metadata": {},
   "outputs": [
    {
     "data": {
      "text/plain": [
       "{'ID': '123', 'name': 'Jpseph'}"
      ]
     },
     "execution_count": 27,
     "metadata": {},
     "output_type": "execute_result"
    }
   ],
   "source": [
    "r.json()['args']"
   ]
  },
  {
   "cell_type": "markdown",
   "metadata": {},
   "source": [
    "# 2.Use \"POST\" to change url parameters"
   ]
  },
  {
   "cell_type": "code",
   "execution_count": 30,
   "metadata": {},
   "outputs": [],
   "source": [
    "url_post = \"http://httpbin.org/post\"\n",
    "payload = {\"name\":\"Joseph\", \"ID\":\"123\"}\n",
    "r_post=requests.post(url_post, data=payload)"
   ]
  },
  {
   "cell_type": "code",
   "execution_count": 32,
   "metadata": {},
   "outputs": [
    {
     "data": {
      "text/plain": [
       "'http://httpbin.org/post'"
      ]
     },
     "execution_count": 32,
     "metadata": {},
     "output_type": "execute_result"
    }
   ],
   "source": [
    "r_post.url "
   ]
  },
  {
   "cell_type": "markdown",
   "metadata": {},
   "source": [
    "#Get vs Post\n",
    "#We found that url of \"POST\" doe snot contain user id and data"
   ]
  },
  {
   "cell_type": "markdown",
   "metadata": {},
   "source": [
    "# 3. Webscraping"
   ]
  },
  {
   "cell_type": "code",
   "execution_count": 33,
   "metadata": {},
   "outputs": [],
   "source": [
    "import requests\n",
    "from bs4 import BeautifulSoup"
   ]
  },
  {
   "cell_type": "code",
   "execution_count": 38,
   "metadata": {},
   "outputs": [
    {
     "name": "stdout",
     "output_type": "stream",
     "text": [
      "Skip to content\n",
      "#start-of-content\n",
      "\n",
      "\n",
      "https://github.com/\n",
      "\n",
      "                Sign up\n",
      "              \n",
      "/join?ref_cta=Sign+up&ref_loc=header+logged+out&ref_page=%2F%3Cuser-name%3E&source=header\n",
      "\n",
      "                Sign up\n",
      "              \n",
      "/join_next?ref_cta=Sign+up&ref_loc=header+logged+out&ref_page=%2F%3Cuser-name%3E&source=header\n",
      "Features \n",
      "/features\n",
      "Mobile \n",
      "/mobile\n",
      "Actions \n",
      "/features/actions\n",
      "Codespaces \n",
      "/features/codespaces\n",
      "Packages \n",
      "/features/packages\n",
      "Security \n",
      "/features/security\n",
      "Code review \n",
      "/features/code-review/\n",
      "Project management \n",
      "/features/project-management/\n",
      "Integrations \n",
      "/features/integrations\n",
      "GitHub Sponsors \n",
      "/sponsors\n",
      "Customer stories\n",
      "/customer-stories\n",
      "Team\n",
      "/team\n",
      "Enterprise\n",
      "/enterprise\n",
      "Explore GitHub \n",
      "/explore\n",
      "Topics \n",
      "/topics\n",
      "Collections \n",
      "/collections\n",
      "Trending \n",
      "/trending\n",
      "Learning Lab \n",
      "https://lab.github.com/\n",
      "Open source guides \n",
      "https://opensource.guide\n",
      "The ReadME Project \n",
      "https://github.com/readme\n",
      "Events \n",
      "https://github.com/events\n",
      "Community forum \n",
      "https://github.community\n",
      "GitHub Education \n",
      "https://education.github.com\n",
      "GitHub Stars program \n",
      "https://stars.github.com\n",
      "Marketplace\n",
      "/marketplace\n",
      "Plans \n",
      "/pricing\n",
      "Compare plans \n",
      "/pricing#feature-comparison\n",
      "Contact Sales \n",
      "https://enterprise.github.com/contact\n",
      "Nonprofit \n",
      "/nonprofit\n",
      "Education \n",
      "https://education.github.com\n",
      "\n",
      "\n",
      "\n",
      "\n",
      "\n",
      "\n",
      "\n",
      "\n",
      "\n",
      "\n",
      "\n",
      "\n",
      "\n",
      "          Sign in\n",
      "        \n",
      "/login?return_to=%2FHJNVR\n",
      "\n",
      "              Sign up\n",
      "            \n",
      "/join?ref_cta=Sign+up&ref_loc=header+logged+out&ref_page=%2F%3Cuser-name%3E&source=header\n",
      "\n",
      "              Sign up\n",
      "            \n",
      "/join_next?ref_cta=Sign+up&ref_loc=header+logged+out&ref_page=%2F%3Cuser-name%3E&source=header\n",
      "Follow\n",
      "/login?return_to=%2FHJNVR\n",
      "\n",
      "\n",
      "/HJNVR\n",
      "\n",
      "\n",
      "/HJNVR?tab=repositories\n",
      "\n",
      "\n",
      "/HJNVR?tab=projects\n",
      "\n",
      "\n",
      "/HJNVR?tab=packages\n",
      "Follow\n",
      "/login?return_to=%2FHJNVR\n",
      "<img alt=\"Avatar\" class=\"avatar avatar-user width-full border color-bg-primary\" height=\"260\" src=\"https://avatars.githubusercontent.com/u/34841349?s=460&amp;u=40701538a585b1a42d9ab5326757b7e400413626&amp;v=4\" style=\"height:auto;\" width=\"260\"/>\n",
      "https://avatars.githubusercontent.com/u/34841349?s=400&u=40701538a585b1a42d9ab5326757b7e400413626&v=4\n",
      "Follow\n",
      "/login?return_to=%2FHJNVR\n",
      "blocking users\n",
      "https://docs.github.com/en/articles/blocking-a-user-from-your-personal-account\n",
      "reporting abuse\n",
      "https://docs.github.com/en/articles/reporting-abuse-or-spam\n",
      "Report abuse\n",
      "/contact/report-abuse?report=HJNVR+%28user%29\n",
      "\n",
      "\n",
      "/HJNVR?tab=followers\n",
      "\n",
      "\n",
      "/HJNVR?tab=following\n",
      "\n",
      "\n",
      "/HJNVR?tab=stars\n",
      "\n",
      "\n",
      "/HJNVR\n",
      "\n",
      "\n",
      "/HJNVR?tab=repositories\n",
      "\n",
      "\n",
      "/HJNVR?tab=projects\n",
      "\n",
      "\n",
      "/HJNVR?tab=packages\n",
      "\n",
      "\n",
      "/HJNVR/WebDriverAgent\n",
      "facebookarchive/WebDriverAgent\n",
      "/facebookarchive/WebDriverAgent\n",
      "\n",
      "\n",
      "/HJNVR/game\n",
      "\n",
      "\n",
      "/HJNVR/Git2GitHub\n",
      "\n",
      "\n",
      "/HJNVR/bootstrap\n",
      "twbs/bootstrap\n",
      "/twbs/bootstrap\n",
      "\n",
      "\n",
      "/HJNVR/gitignore\n",
      "github/gitignore\n",
      "/github/gitignore\n",
      "\n",
      "\n",
      "/HJNVR/UTM_CSC209\n",
      "\n",
      "              Learn how we count contributions\n",
      "https://docs.github.com/articles/why-are-my-contributions-not-showing-up-on-my-profile\n",
      "2021\n",
      "/HJNVR?tab=overview&from=2021-03-01&to=2021-03-14\n",
      "2020\n",
      "/HJNVR?tab=overview&from=2020-12-01&to=2020-12-31\n",
      "2019\n",
      "/HJNVR?tab=overview&from=2019-12-01&to=2019-12-31\n",
      "2018\n",
      "/HJNVR?tab=overview&from=2018-12-01&to=2018-12-31\n",
      "2017\n",
      "/HJNVR?tab=overview&from=2017-12-01&to=2017-12-31\n",
      "HJNVR/SAS-Learning-Notes\n",
      "/HJNVR/SAS-Learning-Notes\n",
      "\n",
      "        8 commits\n",
      "\n",
      "/HJNVR/SAS-Learning-Notes/commits?author=HJNVR&since=2021-01-01&until=2021-02-01\n",
      "HJNVR/SAS-Learning-Notes\n",
      "/HJNVR/SAS-Learning-Notes\n",
      "GitHub profile guide\n",
      "https://docs.github.com/categories/setting-up-and-managing-your-github-profile\n",
      "Terms\n",
      "https://github.com/site/terms\n",
      "Privacy\n",
      "https://github.com/site/privacy\n",
      "Security\n",
      "https://github.com/security\n",
      "Status\n",
      "https://www.githubstatus.com/\n",
      "Docs\n",
      "https://docs.github.com\n",
      "\n",
      "\n",
      "https://github.com\n",
      "Contact GitHub\n",
      "https://support.github.com\n",
      "Pricing\n",
      "https://github.com/pricing\n",
      "API\n",
      "https://docs.github.com\n",
      "Training\n",
      "https://services.github.com\n",
      "Blog\n",
      "https://github.blog\n",
      "About\n",
      "https://github.com/about\n",
      "Reload\n",
      "\n",
      "Reload\n",
      "\n"
     ]
    }
   ],
   "source": [
    "page = requests.get(\"https://github.com/HJNVR\").text\n",
    "\n",
    "# Creates a BeautifulSoup object\n",
    "soup = BeautifulSoup(page, \"html.parser\")\n",
    "\n",
    "#Pulls all instances of <a> tag\n",
    "items_tag_a = soup.find_all('a')\n",
    "\n",
    "# clears data of all tags\n",
    "for item in items_tag_a:\n",
    "    names = item.contents[0]\n",
    "    fulllink = item.get('href')\n",
    "    print(names)\n",
    "    print(fulllink)"
   ]
  },
  {
   "cell_type": "markdown",
   "metadata": {},
   "source": [
    "# 4. webscraping with different kinds of files"
   ]
  },
  {
   "cell_type": "code",
   "execution_count": null,
   "metadata": {},
   "outputs": [],
   "source": []
  }
 ],
 "metadata": {
  "kernelspec": {
   "display_name": "Python 3",
   "language": "python",
   "name": "python3"
  },
  "language_info": {
   "codemirror_mode": {
    "name": "ipython",
    "version": 3
   },
   "file_extension": ".py",
   "mimetype": "text/x-python",
   "name": "python",
   "nbconvert_exporter": "python",
   "pygments_lexer": "ipython3",
   "version": "3.7.6"
  }
 },
 "nbformat": 4,
 "nbformat_minor": 4
}
